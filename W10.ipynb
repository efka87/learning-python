{
  "nbformat": 4,
  "nbformat_minor": 0,
  "metadata": {
    "colab": {
      "provenance": [],
      "authorship_tag": "ABX9TyMNsRW+AXeQByZQQGtcQYzb",
      "include_colab_link": true
    },
    "kernelspec": {
      "name": "python3",
      "display_name": "Python 3"
    },
    "language_info": {
      "name": "python"
    }
  },
  "cells": [
    {
      "cell_type": "markdown",
      "metadata": {
        "id": "view-in-github",
        "colab_type": "text"
      },
      "source": [
        "<a href=\"https://colab.research.google.com/github/efka87/learning-python/blob/main/W10.ipynb\" target=\"_parent\"><img src=\"https://colab.research.google.com/assets/colab-badge.svg\" alt=\"Open In Colab\"/></a>"
      ]
    },
    {
      "cell_type": "markdown",
      "source": [
        "Functions"
      ],
      "metadata": {
        "id": "ecRnH7TrlA4x"
      }
    },
    {
      "cell_type": "code",
      "execution_count": null,
      "metadata": {
        "colab": {
          "base_uri": "https://localhost:8080/"
        },
        "id": "4Dxap9hZkGGu",
        "outputId": "f801c968-0410-4b26-b9f4-5ef643a28efc"
      },
      "outputs": [
        {
          "output_type": "stream",
          "name": "stdout",
          "text": [
            "I have cleaned the phone with water 3 times.\n",
            "I have cleaned the phone with ethanol five times.\n"
          ]
        }
      ],
      "source": [
        "def cleaner(item, fluid, times):\n",
        "  print(f'I have cleaned the {item} with {fluid} {times} times.')\n",
        "\n",
        "cleaner('phone', 'water', 3)\n",
        "cleaner('phone', 'ethanol', 'five')"
      ]
    },
    {
      "cell_type": "code",
      "source": [
        "def add_two_numbers(number_1, number_2):\n",
        "  return number_1 + number_2\n",
        "\n",
        "50 - add_two_numbers(4, 5)\n"
      ],
      "metadata": {
        "colab": {
          "base_uri": "https://localhost:8080/"
        },
        "id": "Usbak8MVq2S0",
        "outputId": "e88a0699-367f-4eec-af7e-03c9bdd07118"
      },
      "execution_count": null,
      "outputs": [
        {
          "output_type": "execute_result",
          "data": {
            "text/plain": [
              "41"
            ]
          },
          "metadata": {},
          "execution_count": 10
        }
      ]
    },
    {
      "cell_type": "markdown",
      "source": [
        "classes\n"
      ],
      "metadata": {
        "id": "mwdNW1qcxgux"
      }
    },
    {
      "cell_type": "code",
      "source": [
        "# Defining a class\n",
        "class Cat:\n",
        "  # Initializing a standard method\n",
        "  # __init__  method runs automatically when an object\n",
        "  # from this class is created\n",
        "  # this method is also called a 'constructor'\n",
        "  def __init__(self, name, age): # self is a required parameter and refets to the\n",
        "    self.name = name\n",
        "    self.age = age\n",
        "\n",
        "\n",
        "  def voice(self, sound):\n",
        "    print(f'{sound}!')\n",
        "\n",
        "cat1 = Cat('Coder', 3)\n",
        "cat2 = Cat('Karvapall', 5)\n",
        "cat3 = Cat('Tuust', 12)\n",
        "\n",
        "print(cat3.name, cat3.age)\n",
        "cat3.voice('Meow')\n",
        "cat1.voice('Meooooow!')"
      ],
      "metadata": {
        "colab": {
          "base_uri": "https://localhost:8080/"
        },
        "id": "v4kzMUZoxiHh",
        "outputId": "889b3726-10ef-47f0-e56c-d66dc6e884d3"
      },
      "execution_count": null,
      "outputs": [
        {
          "output_type": "stream",
          "name": "stdout",
          "text": [
            "Tuust 12\n",
            "Meow!\n",
            "Meooooow!!\n"
          ]
        }
      ]
    },
    {
      "cell_type": "code",
      "source": [
        "class Cat:\n",
        "  def __init__(self, name, age):\n",
        "    self.name = name\n",
        "    self.age = age\n",
        "    self.sound = 'Meow'\n",
        "\n",
        "\n",
        "  def voice(self):\n",
        "    print(f'{self.sound}!')\n",
        "\n",
        "  def eat(self, food):\n",
        "    print(f'{food}!')\n",
        "\n",
        "  def introduce(self):\n",
        "    print(f'Hi, my name is {self.name}. I am {self.age} years old!')\n",
        "\n",
        "cat1 = Cat('Coder', 3)\n",
        "cat2 = Cat('Karvapall', 5)\n",
        "cat3 = Cat('Tuust', 12)\n",
        "\n",
        "print(cat3.name, cat3.age)\n",
        "cat3.voice()\n",
        "cat1.voice()\n",
        "cat3.eat('chicken')\n",
        "cat2.introduce()"
      ],
      "metadata": {
        "colab": {
          "base_uri": "https://localhost:8080/"
        },
        "id": "XbCFbsyH7HWA",
        "outputId": "42891168-4de0-4d2b-974a-7fd05d99e514"
      },
      "execution_count": null,
      "outputs": [
        {
          "output_type": "stream",
          "name": "stdout",
          "text": [
            "Tuust 12\n",
            "Meow!\n",
            "Meow!\n",
            "chicken!\n",
            "Hi, my name is Karvapall. I am 5 years old!\n"
          ]
        }
      ]
    },
    {
      "cell_type": "code",
      "source": [],
      "metadata": {
        "id": "eW54FGBnbNlh"
      },
      "execution_count": null,
      "outputs": []
    }
  ]
}