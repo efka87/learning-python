{
  "nbformat": 4,
  "nbformat_minor": 0,
  "metadata": {
    "colab": {
      "provenance": [],
      "authorship_tag": "ABX9TyOkRuSuiXYIyQZVmlrvq1AK",
      "include_colab_link": true
    },
    "kernelspec": {
      "name": "python3",
      "display_name": "Python 3"
    },
    "language_info": {
      "name": "python"
    }
  },
  "cells": [
    {
      "cell_type": "markdown",
      "metadata": {
        "id": "view-in-github",
        "colab_type": "text"
      },
      "source": [
        "<a href=\"https://colab.research.google.com/github/efka87/learning-python/blob/main/W9.ipynb\" target=\"_parent\"><img src=\"https://colab.research.google.com/assets/colab-badge.svg\" alt=\"Open In Colab\"/></a>"
      ]
    },
    {
      "cell_type": "markdown",
      "source": [
        "Tuples"
      ],
      "metadata": {
        "id": "62yKuWYohCRe"
      }
    },
    {
      "cell_type": "code",
      "execution_count": null,
      "metadata": {
        "colab": {
          "base_uri": "https://localhost:8080/"
        },
        "id": "U0LknIUeg2uM",
        "outputId": "a4dfda15-7cbf-4d36-dca8-5532da7ad832"
      },
      "outputs": [
        {
          "output_type": "stream",
          "name": "stdout",
          "text": [
            "(1, 2, 3)\n"
          ]
        }
      ],
      "source": [
        "my_dict = {} # defining a dictionary\n",
        "my_list = [] # defining a list\n",
        "my_tuple = () # define tuple\n",
        "\n",
        "\n",
        "my_tuple = (1,2,3) #3 objects inside the. tuple\n",
        "print(my_tuple)"
      ]
    },
    {
      "cell_type": "markdown",
      "source": [
        "Transforming to tuple"
      ],
      "metadata": {
        "id": "9I_TASlmiEDQ"
      }
    },
    {
      "cell_type": "code",
      "source": [
        "new_list =[1,2,3,4]\n",
        "print(new_list)\n",
        "\n",
        "#transform list to a tuple\n",
        "new_tuple = tuple(new_list)\n",
        "type(new_tuple)"
      ],
      "metadata": {
        "colab": {
          "base_uri": "https://localhost:8080/"
        },
        "id": "ishSnHEThslt",
        "outputId": "04d1a4db-23b3-4ab5-a88d-bc4e5d89e958"
      },
      "execution_count": null,
      "outputs": [
        {
          "output_type": "stream",
          "name": "stdout",
          "text": [
            "[1, 2, 3, 4]\n"
          ]
        },
        {
          "output_type": "execute_result",
          "data": {
            "text/plain": [
              "tuple"
            ]
          },
          "metadata": {},
          "execution_count": 3
        }
      ]
    },
    {
      "cell_type": "code",
      "source": [
        "new_tuple[0:3] # you can index into tuples\n"
      ],
      "metadata": {
        "colab": {
          "base_uri": "https://localhost:8080/"
        },
        "id": "WL4oa0ZqiN9m",
        "outputId": "17e63430-a829-4fef-a27f-eb7940d17691"
      },
      "execution_count": null,
      "outputs": [
        {
          "output_type": "execute_result",
          "data": {
            "text/plain": [
              "(1, 2, 3)"
            ]
          },
          "metadata": {},
          "execution_count": 5
        }
      ]
    },
    {
      "cell_type": "code",
      "source": [
        "# common functions for tuples - tuple on muutumatu järjestus elemente,\n",
        "# ehk ei saa pärast loomist muuta. Kasutatakse näiteks kordinaatide määramiseks\n",
        "\n",
        "\n",
        "len(new_tuple) #length of the tuple\n",
        "min(new_tuple)\n",
        "max(new_tuple)\n",
        "sum(new_tuple)"
      ],
      "metadata": {
        "colab": {
          "base_uri": "https://localhost:8080/"
        },
        "id": "IQUrkii1iTX4",
        "outputId": "c2131f09-0e7a-4ecb-9de3-6b91db81978e"
      },
      "execution_count": null,
      "outputs": [
        {
          "output_type": "execute_result",
          "data": {
            "text/plain": [
              "10"
            ]
          },
          "metadata": {},
          "execution_count": 6
        }
      ]
    },
    {
      "cell_type": "markdown",
      "source": [
        "### Data type called Dictionary"
      ],
      "metadata": {
        "id": "rOIhkF--lAvd"
      }
    },
    {
      "cell_type": "code",
      "source": [
        "# create a dictionary\n",
        "dictionary = {} # curly braces method\n",
        "another_dictionary = dict() #dict method\n",
        "\n",
        "dictionary == another_dictionary"
      ],
      "metadata": {
        "colab": {
          "base_uri": "https://localhost:8080/"
        },
        "id": "WW-_34GelJxx",
        "outputId": "5891c762-c081-44ae-f60b-79500c876059"
      },
      "execution_count": null,
      "outputs": [
        {
          "output_type": "execute_result",
          "data": {
            "text/plain": [
              "True"
            ]
          },
          "metadata": {},
          "execution_count": 11
        }
      ]
    },
    {
      "cell_type": "code",
      "source": [
        "dictionary = {} #curly br method\n",
        "\n",
        "dictionary['key1'] = 'value1' #add an element to dictionary"
      ],
      "metadata": {
        "id": "ovk8gv3dmZpN"
      },
      "execution_count": null,
      "outputs": []
    },
    {
      "cell_type": "code",
      "source": [
        "dictionary['key2'] = 'value2'"
      ],
      "metadata": {
        "id": "XMETXT_BmliD"
      },
      "execution_count": null,
      "outputs": []
    },
    {
      "cell_type": "code",
      "source": [
        "dictionary['key2'] #use the key to get to the element"
      ],
      "metadata": {
        "colab": {
          "base_uri": "https://localhost:8080/",
          "height": 35
        },
        "id": "U8haVeUcm2WX",
        "outputId": "eb0ca686-135a-42c5-d1a6-0b7a1f2b76e7"
      },
      "execution_count": null,
      "outputs": [
        {
          "output_type": "execute_result",
          "data": {
            "text/plain": [
              "'value2'"
            ],
            "application/vnd.google.colaboratory.intrinsic+json": {
              "type": "string"
            }
          },
          "metadata": {},
          "execution_count": 13
        }
      ]
    },
    {
      "cell_type": "code",
      "source": [
        "dictionary['key3'] = [1, 2, 3]\n",
        "dictionary['key3']"
      ],
      "metadata": {
        "colab": {
          "base_uri": "https://localhost:8080/"
        },
        "id": "mlsgL9jbpDUf",
        "outputId": "cc9d9064-db94-4211-afa4-455d8404d905"
      },
      "execution_count": null,
      "outputs": [
        {
          "output_type": "execute_result",
          "data": {
            "text/plain": [
              "[1, 2, 3]"
            ]
          },
          "metadata": {},
          "execution_count": 14
        }
      ]
    },
    {
      "cell_type": "code",
      "source": [
        "dictionary['datorium_list'] = ['Python', 'Java', 'C#']\n",
        "dictionary['datorium_list']"
      ],
      "metadata": {
        "colab": {
          "base_uri": "https://localhost:8080/"
        },
        "id": "yuMfCxCwpHfc",
        "outputId": "64f44154-2fe7-48d4-c5a5-5adf91485cdc"
      },
      "execution_count": null,
      "outputs": [
        {
          "output_type": "execute_result",
          "data": {
            "text/plain": [
              "['Python', 'Java', 'C#']"
            ]
          },
          "metadata": {},
          "execution_count": 19
        }
      ]
    },
    {
      "cell_type": "code",
      "source": [
        "dictionary['datorium_list'] = [1,2,3]\n",
        "dictionary['datorium_list']"
      ],
      "metadata": {
        "colab": {
          "base_uri": "https://localhost:8080/"
        },
        "id": "504cKQC_p85s",
        "outputId": "6eb8b82d-cd6b-4a10-d9d6-252b59ffc31e"
      },
      "execution_count": null,
      "outputs": [
        {
          "output_type": "execute_result",
          "data": {
            "text/plain": [
              "[1, 2, 3]"
            ]
          },
          "metadata": {},
          "execution_count": 21
        }
      ]
    },
    {
      "cell_type": "markdown",
      "source": [
        "**Python dictionary methods**"
      ],
      "metadata": {
        "id": "dAS9H_Vzq0D-"
      }
    },
    {
      "cell_type": "code",
      "source": [
        "my_friends = {'Alice': 30,\n",
        "              'Mari': 40,\n",
        "              'Anna': 33}"
      ],
      "metadata": {
        "id": "0wns9Yvzqze3"
      },
      "execution_count": null,
      "outputs": []
    },
    {
      "cell_type": "code",
      "source": [
        "my_friends['Anna']"
      ],
      "metadata": {
        "colab": {
          "base_uri": "https://localhost:8080/"
        },
        "id": "z5KxJA4GrGCQ",
        "outputId": "f4bc732b-d0b4-4919-e264-819e832534c3"
      },
      "execution_count": null,
      "outputs": [
        {
          "output_type": "execute_result",
          "data": {
            "text/plain": [
              "33"
            ]
          },
          "metadata": {},
          "execution_count": 24
        }
      ]
    },
    {
      "cell_type": "code",
      "source": [
        "# update() method\n",
        "\n",
        "incoming_friends = {'Laura': 25}\n",
        "my_friends.update(incoming_friends)\n",
        "my_friends"
      ],
      "metadata": {
        "colab": {
          "base_uri": "https://localhost:8080/"
        },
        "id": "yzRMEtmWrP08",
        "outputId": "144ffde6-3061-4c28-b82c-9eb14848f38e"
      },
      "execution_count": null,
      "outputs": [
        {
          "output_type": "execute_result",
          "data": {
            "text/plain": [
              "{'Alice': 30, 'Anna': 33, 'Laura': 25}"
            ]
          },
          "metadata": {},
          "execution_count": 33
        }
      ]
    },
    {
      "cell_type": "code",
      "source": [
        "integer_key = {123, 'name'}\n",
        "integer_key"
      ],
      "metadata": {
        "colab": {
          "base_uri": "https://localhost:8080/"
        },
        "id": "P3btNH8bsFKX",
        "outputId": "fbd5ed16-bb17-41a9-da67-a938f353abc5"
      },
      "execution_count": null,
      "outputs": [
        {
          "output_type": "execute_result",
          "data": {
            "text/plain": [
              "{123, 'name'}"
            ]
          },
          "metadata": {},
          "execution_count": 27
        }
      ]
    },
    {
      "cell_type": "code",
      "source": [
        "my_friends.pop('Mari')\n",
        "my_friends"
      ],
      "metadata": {
        "colab": {
          "base_uri": "https://localhost:8080/"
        },
        "id": "bSt8pPKotInX",
        "outputId": "1ad3e77c-0685-43db-c091-1ddc5e78d473"
      },
      "execution_count": null,
      "outputs": [
        {
          "output_type": "execute_result",
          "data": {
            "text/plain": [
              "{'Alice': 30, 'Anna': 33}"
            ]
          },
          "metadata": {},
          "execution_count": 35
        }
      ]
    },
    {
      "cell_type": "code",
      "source": [
        "#get() - väärtuse otsimine\n",
        "my_friends.get('Mari', 'This person isnt your friend anymore')"
      ],
      "metadata": {
        "colab": {
          "base_uri": "https://localhost:8080/",
          "height": 35
        },
        "id": "B5aCUdRbt8qM",
        "outputId": "64dc6be9-da45-41ab-de24-90b425931c2f"
      },
      "execution_count": null,
      "outputs": [
        {
          "output_type": "execute_result",
          "data": {
            "text/plain": [
              "'This person isnt your friend anymore'"
            ],
            "application/vnd.google.colaboratory.intrinsic+json": {
              "type": "string"
            }
          },
          "metadata": {},
          "execution_count": 36
        }
      ]
    },
    {
      "cell_type": "code",
      "source": [
        "my_friends.items() # returns all the object from the dict\n",
        "my_friends.keys() #returns only keys\n",
        "my_friends.values # returns only values"
      ],
      "metadata": {
        "colab": {
          "base_uri": "https://localhost:8080/"
        },
        "id": "LndYnxK6uA-j",
        "outputId": "4384aa07-835f-48c7-e85f-f6f352cd26d2"
      },
      "execution_count": null,
      "outputs": [
        {
          "output_type": "execute_result",
          "data": {
            "text/plain": [
              "<function dict.values>"
            ]
          },
          "metadata": {},
          "execution_count": 38
        }
      ]
    },
    {
      "cell_type": "markdown",
      "source": [
        "**Creating a contact book**"
      ],
      "metadata": {
        "id": "cnQd4rDEx9J-"
      }
    },
    {
      "cell_type": "code",
      "source": [
        "contact_book = {} #initiate empty dictionary\n",
        "\n",
        "name = input('Enter the name: ')\n",
        "number = input('Enter number: ')\n",
        "\n",
        "contact_book[name] = number #adding element to the dictionary\n",
        "print(f'Contact {name} added successfully!')"
      ],
      "metadata": {
        "colab": {
          "base_uri": "https://localhost:8080/"
        },
        "id": "8wDBEgw9uI3M",
        "outputId": "a2732089-5ec0-4d39-90de-fa5cdb226572"
      },
      "execution_count": null,
      "outputs": [
        {
          "output_type": "stream",
          "name": "stdout",
          "text": [
            "Enter the name: Evelin\n",
            "Enter number: 55323232\n",
            "Contact Evelin added successfully!\n"
          ]
        }
      ]
    },
    {
      "cell_type": "code",
      "source": [
        "contact_book = {}  # Initializing an empty dictionary to store contacts\n",
        "\n",
        "while True:\n",
        "    print('Add people to your contacts. When you have finished, insert \"stop\"')\n",
        "    name = input(\"Enter your name: \")\n",
        "    if name == \"stop\":\n",
        "        print(contact_book)\n",
        "        print('Thanks! Bye!')\n",
        "        break\n",
        "    number = input(\"Enter your number: \")\n",
        "    contact_book[name] = number  # adding element to the dictionary\n",
        "    print(f'Contact {name} added successfully!')\n",
        "\n"
      ],
      "metadata": {
        "colab": {
          "base_uri": "https://localhost:8080/"
        },
        "id": "mpZbRmQS0TFB",
        "outputId": "ec49a7f7-3312-4a32-99ac-08cd45988a74"
      },
      "execution_count": null,
      "outputs": [
        {
          "output_type": "stream",
          "name": "stdout",
          "text": [
            "Add people to your contacts. When you have finished, insert \"stop\"\n",
            "Enter your name: evelin\n",
            "Enter your number: 3333\n",
            "Contact evelin added successfully!\n",
            "Add people to your contacts. When you have finished, insert \"stop\"\n",
            "Enter your name: Anna\n",
            "Enter your number: 4444\n",
            "Contact Anna added successfully!\n",
            "Add people to your contacts. When you have finished, insert \"stop\"\n",
            "Enter your name: stop\n",
            "{'evelin': '3333', 'Anna': '4444'}\n",
            "Thanks! Bye!\n"
          ]
        }
      ]
    },
    {
      "cell_type": "markdown",
      "source": [
        "initiate empty dict. add item (key), quantity (value) in the dict. Inform user that element is added"
      ],
      "metadata": {
        "id": "jYEvlyPB18I3"
      }
    },
    {
      "cell_type": "code",
      "source": [
        "inventory = {}  # Initialize an empty dictionary to store inventory items\n",
        "\n",
        "while True:\n",
        "    item = input(\"Enter the name of the item (or type 'stop' to finish): \")\n",
        "    if item == \"stop\":\n",
        "        print(\"Inventory update completed. Exiting...\")\n",
        "        break\n",
        "\n",
        "    quantity = int(input(\"Enter the quantity: \"))\n",
        "    inventory[item] = quantity  # Add the item and its quantity to the inventory dictionary\n",
        "    print(f\"{quantity} {item}(s) added to the inventory.\")\n",
        "\n",
        "print(\"Final Inventory:\")\n",
        "for item, quantity in inventory.items():\n",
        "    print(f\"{item}: {quantity}\")\n"
      ],
      "metadata": {
        "colab": {
          "base_uri": "https://localhost:8080/"
        },
        "id": "PukOYQYb2Iod",
        "outputId": "047f6593-85a2-419e-b364-bc781b376c51"
      },
      "execution_count": null,
      "outputs": [
        {
          "output_type": "stream",
          "name": "stdout",
          "text": [
            "Enter the name of the item (or type 'stop' to finish): laud\n",
            "Enter the quantity: 3\n",
            "3 laud(s) added to the inventory.\n",
            "Enter the name of the item (or type 'stop' to finish): stop\n",
            "Inventory update completed. Exiting...\n",
            "Final Inventory:\n",
            "laud: 3\n"
          ]
        }
      ]
    },
    {
      "cell_type": "code",
      "source": [
        "inventoru = {}\n",
        "\n",
        "#function to add an item to dictionary\n",
        "\n",
        "def add_item(inventory):\n",
        "  store_item = input('Enter the item: ')\n",
        "  item_quantity = input('Enter the quantity: ')\n",
        "  inventory[store_item] = item_quantity\n",
        "  print(f'item{store_item} quantity added')"
      ],
      "metadata": {
        "id": "nk6L_9tm5umc"
      },
      "execution_count": null,
      "outputs": []
    },
    {
      "cell_type": "code",
      "source": [
        "while True:\n",
        "  exit = input('if you want to exit, write \"stop\"')\n",
        "  if exit == 'stop':\n",
        "    print('You stopped entering entries.')\n",
        "    break\n",
        "  add_item(inventory)"
      ],
      "metadata": {
        "colab": {
          "base_uri": "https://localhost:8080/"
        },
        "id": "nlZMhq-l6OjB",
        "outputId": "13bc4dca-18f7-4b1d-af35-50700383908b"
      },
      "execution_count": null,
      "outputs": [
        {
          "output_type": "stream",
          "name": "stdout",
          "text": [
            "if you want to exit, write \"stop\"hola\n",
            "Enter the item: kartul\n",
            "Enter the quantity: 4\n",
            "itemkartul quantity added\n",
            "if you want to exit, write \"stop\"kana\n",
            "Enter the item: 2\n",
            "Enter the quantity: stop\n",
            "item2 quantity added\n",
            "if you want to exit, write \"stop\"stop\n",
            "You stopped entering entries.\n"
          ]
        }
      ]
    }
  ]
}