{
  "nbformat": 4,
  "nbformat_minor": 0,
  "metadata": {
    "colab": {
      "provenance": [],
      "authorship_tag": "ABX9TyM20l6HjEBNDkQnJtSA1w6Y",
      "include_colab_link": true
    },
    "kernelspec": {
      "name": "python3",
      "display_name": "Python 3"
    },
    "language_info": {
      "name": "python"
    }
  },
  "cells": [
    {
      "cell_type": "markdown",
      "metadata": {
        "id": "view-in-github",
        "colab_type": "text"
      },
      "source": [
        "<a href=\"https://colab.research.google.com/github/efka87/learning-python/blob/main/banking_individual_task.ipynb\" target=\"_parent\"><img src=\"https://colab.research.google.com/assets/colab-badge.svg\" alt=\"Open In Colab\"/></a>"
      ]
    },
    {
      "cell_type": "markdown",
      "source": [
        "Individual task\n",
        "\n",
        "**Instructions:**\n",
        "1. Welcome the user to the bank\n",
        "2. Initiate balance = 0\n",
        "3. Ask the user to input the amount of money they want to deposit.\n",
        "4. Add the deposit amount to the total balance\n",
        "5. Ask the user if they want to make another deposit or exit the bank.\n",
        "6. If they choose to make another deposit, repeat the process (while True).\n",
        "7. If not, print the total amount deposited and exit the bank."
      ],
      "metadata": {
        "id": "2xaI00Dacvu-"
      }
    },
    {
      "cell_type": "code",
      "execution_count": 33,
      "metadata": {
        "colab": {
          "base_uri": "https://localhost:8080/"
        },
        "id": "cNxGJP_pcsCa",
        "outputId": "677fd213-9b88-402e-eda4-fa4e59bd6b2e"
      },
      "outputs": [
        {
          "output_type": "stream",
          "name": "stdout",
          "text": [
            "Welcome to the Bank!\n",
            "Enter the deposit amount : 77\n",
            "Do you want to add some more? (y/n): y\n",
            "Enter the deposit amount : 9898\n",
            "Do you want to add some more? (y/n): n\n",
            "The total amound deposited is 9975!\n"
          ]
        }
      ],
      "source": [
        "def bank_deposit():\n",
        "  print('Welcome to the Bank!')\n",
        "  balance = 0\n",
        "\n",
        "  while True:\n",
        "      try:\n",
        "            deposit = int(input('Enter the deposit amount : '))\n",
        "            if deposit < 0:\n",
        "                print('Invalid number. Please enter a positive number.')\n",
        "                continue\n",
        "\n",
        "      except ValueError:\n",
        "            print('Invalid input. Please enter a valid number.')\n",
        "            continue\n",
        "\n",
        "      balance += deposit\n",
        "\n",
        "      while True:\n",
        "            add_another_depo = input('Do you want to add some more? (y/n): ')\n",
        "            if add_another_depo in ('y', 'n'):\n",
        "                break\n",
        "            else:\n",
        "                print('Invalid input. Please enter \"y\" for yes or \"n\" for no.')\n",
        "\n",
        "      if add_another_depo == 'n':\n",
        "            break\n",
        "  print(f'The total amound deposited is {balance}!')\n",
        "\n",
        "\n",
        "bank_deposit()\n"
      ]
    }
  ]
}