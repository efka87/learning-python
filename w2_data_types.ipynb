{
  "nbformat": 4,
  "nbformat_minor": 0,
  "metadata": {
    "colab": {
      "provenance": [],
      "authorship_tag": "ABX9TyOIeAt5NjX4eL3zpun9Qsv9",
      "include_colab_link": true
    },
    "kernelspec": {
      "name": "python3",
      "display_name": "Python 3"
    },
    "language_info": {
      "name": "python"
    }
  },
  "cells": [
    {
      "cell_type": "markdown",
      "metadata": {
        "id": "view-in-github",
        "colab_type": "text"
      },
      "source": [
        "<a href=\"https://colab.research.google.com/github/efka87/learning-python/blob/main/class2_data_types.ipynb\" target=\"_parent\"><img src=\"https://colab.research.google.com/assets/colab-badge.svg\" alt=\"Open In Colab\"/></a>"
      ]
    },
    {
      "cell_type": "code",
      "execution_count": null,
      "metadata": {
        "colab": {
          "base_uri": "https://localhost:8080/"
        },
        "id": "CiHbdj0_ZOPn",
        "outputId": "85800f71-d1d3-4f50-d37c-a7355928cc97"
      },
      "outputs": [
        {
          "output_type": "stream",
          "name": "stdout",
          "text": [
            "14\n",
            "<class 'int'>\n"
          ]
        }
      ],
      "source": [
        "# Data types\n",
        "\n",
        "x = 14\n",
        "print(x)\n",
        "print(type(x))"
      ]
    },
    {
      "cell_type": "code",
      "source": [
        "x1 = -1\n",
        "print(type(x))"
      ],
      "metadata": {
        "colab": {
          "base_uri": "https://localhost:8080/"
        },
        "id": "1qh5DxBoas86",
        "outputId": "6c786331-8180-4eaf-e34c-4c898a2f531c"
      },
      "execution_count": null,
      "outputs": [
        {
          "output_type": "stream",
          "name": "stdout",
          "text": [
            "<class 'int'>\n"
          ]
        }
      ]
    },
    {
      "cell_type": "code",
      "source": [
        "# Floats\n",
        "nearly_pi = 3.14\n",
        "print(nearly_pi)\n",
        "print(type(nearly_pi))"
      ],
      "metadata": {
        "colab": {
          "base_uri": "https://localhost:8080/"
        },
        "id": "A3KdRjT7bLZW",
        "outputId": "18387bbe-0afc-42d6-8216-25587f78fc77"
      },
      "execution_count": null,
      "outputs": [
        {
          "output_type": "stream",
          "name": "stdout",
          "text": [
            "3.14\n",
            "<class 'float'>\n"
          ]
        }
      ]
    },
    {
      "cell_type": "code",
      "source": [
        "nearly_pi1 = 22/7\n",
        "print(nearly_pi1)\n",
        "print(type(nearly_pi1))"
      ],
      "metadata": {
        "colab": {
          "base_uri": "https://localhost:8080/"
        },
        "id": "RO_fqJl8bs1s",
        "outputId": "c309c914-cc87-4748-cac2-9ebb893e617f"
      },
      "execution_count": null,
      "outputs": [
        {
          "output_type": "stream",
          "name": "stdout",
          "text": [
            "3.142857142857143\n",
            "<class 'float'>\n"
          ]
        }
      ]
    },
    {
      "cell_type": "code",
      "source": [
        "# Rounding a float\n",
        "\n",
        "rounded_nearly_pi1 = round(nearly_pi1, 2)\n",
        "print(rounded_nearly_pi1)\n",
        "print(type(rounded_nearly_pi1))"
      ],
      "metadata": {
        "colab": {
          "base_uri": "https://localhost:8080/"
        },
        "id": "1Jj-OcPfc2Ha",
        "outputId": "c150f08a-ec8d-4863-ef81-d91885599ed6"
      },
      "execution_count": null,
      "outputs": [
        {
          "output_type": "stream",
          "name": "stdout",
          "text": [
            "3.14\n",
            "<class 'float'>\n"
          ]
        }
      ]
    },
    {
      "cell_type": "code",
      "source": [
        "type(round(nearly_pi1)) # default is 0\n",
        "type(round(nearly_pi1, 0)) # I actually entered zero"
      ],
      "metadata": {
        "colab": {
          "base_uri": "https://localhost:8080/"
        },
        "id": "gmqL6u8WepO9",
        "outputId": "f0ce8cb9-4ddd-42d1-9594-9cc12ea0e32d"
      },
      "execution_count": null,
      "outputs": [
        {
          "output_type": "execute_result",
          "data": {
            "text/plain": [
              "float"
            ]
          },
          "metadata": {},
          "execution_count": 18
        }
      ]
    },
    {
      "cell_type": "code",
      "source": [
        "# Boolenas\n",
        "\n",
        "boolean1 = False\n",
        "\n",
        "print(boolean1)\n",
        "print(type(boolean1))"
      ],
      "metadata": {
        "colab": {
          "base_uri": "https://localhost:8080/"
        },
        "id": "pyeHbOo9fJ9w",
        "outputId": "7807b88b-e5a6-448f-ec53-a5bd94e6f1d5"
      },
      "execution_count": null,
      "outputs": [
        {
          "output_type": "stream",
          "name": "stdout",
          "text": [
            "False\n",
            "<class 'bool'>\n"
          ]
        }
      ]
    },
    {
      "cell_type": "code",
      "source": [
        "boolean2 = (1 < 2)\n",
        "print(boolean2)\n",
        "print(type(boolean2))"
      ],
      "metadata": {
        "colab": {
          "base_uri": "https://localhost:8080/"
        },
        "id": "Ec5XpRLvf-5G",
        "outputId": "6e3d37fc-704b-4b21-d1bb-e5eb2669fa87"
      },
      "execution_count": null,
      "outputs": [
        {
          "output_type": "stream",
          "name": "stdout",
          "text": [
            "True\n",
            "<class 'bool'>\n"
          ]
        }
      ]
    },
    {
      "cell_type": "code",
      "source": [
        "boolean3 = (5 > 3)\n",
        "\n",
        "print(boolean3)\n"
      ],
      "metadata": {
        "colab": {
          "base_uri": "https://localhost:8080/"
        },
        "id": "ta_SLkRVgYxR",
        "outputId": "3fade4bd-c14e-48d0-bb74-bbfba3f555fc"
      },
      "execution_count": null,
      "outputs": [
        {
          "output_type": "stream",
          "name": "stdout",
          "text": [
            "True\n"
          ]
        }
      ]
    },
    {
      "cell_type": "code",
      "source": [
        "boolean4 = not boolean3\n",
        "print(boolean4)"
      ],
      "metadata": {
        "colab": {
          "base_uri": "https://localhost:8080/"
        },
        "id": "jSl13yNagf0I",
        "outputId": "d8973a17-d3d4-4429-bc54-f8760f988653"
      },
      "execution_count": null,
      "outputs": [
        {
          "output_type": "stream",
          "name": "stdout",
          "text": [
            "False\n"
          ]
        }
      ]
    },
    {
      "cell_type": "code",
      "source": [
        "# TRUE == 1\n",
        "# FALSE == 0"
      ],
      "metadata": {
        "id": "G_dDJ4kAhjtY"
      },
      "execution_count": null,
      "outputs": []
    },
    {
      "cell_type": "code",
      "source": [
        "boolean5 = True + False\n",
        "print(boolean5)"
      ],
      "metadata": {
        "colab": {
          "base_uri": "https://localhost:8080/"
        },
        "id": "K3sNfWQYg3os",
        "outputId": "d28fd5de-9852-4e86-b76c-f622e79991de"
      },
      "execution_count": null,
      "outputs": [
        {
          "output_type": "stream",
          "name": "stdout",
          "text": [
            "1\n"
          ]
        }
      ]
    },
    {
      "cell_type": "code",
      "source": [
        "string1 = \"Hello!\"\n",
        "print(string1)\n",
        "print(type(string1))"
      ],
      "metadata": {
        "colab": {
          "base_uri": "https://localhost:8080/"
        },
        "id": "hTQokteRidB-",
        "outputId": "5bfcf341-7a71-494a-a4a5-b80aa628099c"
      },
      "execution_count": null,
      "outputs": [
        {
          "output_type": "stream",
          "name": "stdout",
          "text": [
            "Hello!\n",
            "<class 'str'>\n"
          ]
        }
      ]
    },
    {
      "cell_type": "code",
      "source": [
        "nearly_pi_string = '3.14'\n",
        "type(nearly_pi_string)"
      ],
      "metadata": {
        "colab": {
          "base_uri": "https://localhost:8080/"
        },
        "id": "cZ_TRES2i32h",
        "outputId": "5dd0119a-6c88-4cf6-e81c-a1bfe94241fe"
      },
      "execution_count": null,
      "outputs": [
        {
          "output_type": "execute_result",
          "data": {
            "text/plain": [
              "str"
            ]
          },
          "metadata": {},
          "execution_count": 27
        }
      ]
    },
    {
      "cell_type": "code",
      "source": [
        "nearly_pi_converted = float(nearly_pi_string)\n",
        "type(nearly_pi_converted)"
      ],
      "metadata": {
        "colab": {
          "base_uri": "https://localhost:8080/"
        },
        "id": "eOG1RmuWjD_8",
        "outputId": "2ffff5b4-44a9-4ee8-c6b0-71fe8953d7ae"
      },
      "execution_count": null,
      "outputs": [
        {
          "output_type": "execute_result",
          "data": {
            "text/plain": [
              "float"
            ]
          },
          "metadata": {},
          "execution_count": 28
        }
      ]
    },
    {
      "cell_type": "code",
      "source": [
        "new_string = \"abc\" + \"def\"\n",
        "print(new_string)"
      ],
      "metadata": {
        "colab": {
          "base_uri": "https://localhost:8080/"
        },
        "id": "2vC4la-EkGLu",
        "outputId": "41fcc36e-7bd4-4b06-ad73-8b58f4849a48"
      },
      "execution_count": null,
      "outputs": [
        {
          "output_type": "stream",
          "name": "stdout",
          "text": [
            "abcdef\n"
          ]
        }
      ]
    },
    {
      "cell_type": "code",
      "source": [
        "# Addition\n",
        "a = 5\n",
        "b = 3\n",
        "sum = a + b\n",
        "print(f'SUM: {sum}')"
      ],
      "metadata": {
        "colab": {
          "base_uri": "https://localhost:8080/"
        },
        "id": "vazUfK5QkBhK",
        "outputId": "8ff062bd-315f-43a6-ead1-af0fadafa668"
      },
      "execution_count": null,
      "outputs": [
        {
          "output_type": "stream",
          "name": "stdout",
          "text": [
            "SUM: 8\n"
          ]
        }
      ]
    },
    {
      "cell_type": "code",
      "source": [
        "print(a)\n",
        "type(sum)\n",
        "print(b)"
      ],
      "metadata": {
        "colab": {
          "base_uri": "https://localhost:8080/"
        },
        "id": "TWYAAX1DkzzX",
        "outputId": "75e85c2f-c5e1-4eea-a5b9-115c3c81b756"
      },
      "execution_count": null,
      "outputs": [
        {
          "output_type": "stream",
          "name": "stdout",
          "text": [
            "5\n",
            "3\n"
          ]
        }
      ]
    },
    {
      "cell_type": "code",
      "source": [
        "# Substraction\n",
        "\n",
        "difference = a - b\n",
        "print(f'Difference: {difference}')"
      ],
      "metadata": {
        "colab": {
          "base_uri": "https://localhost:8080/"
        },
        "id": "ji4ISxaXlk7j",
        "outputId": "95436913-b486-4731-bc33-67d47f482bab"
      },
      "execution_count": null,
      "outputs": [
        {
          "output_type": "stream",
          "name": "stdout",
          "text": [
            "Difference: 2\n"
          ]
        }
      ]
    },
    {
      "cell_type": "code",
      "source": [
        "# Multiplication\n",
        "\n",
        "multip = a * b\n",
        "print(f'Multiplication: {multip}')\n"
      ],
      "metadata": {
        "colab": {
          "base_uri": "https://localhost:8080/"
        },
        "id": "hNguCZ1VmwiK",
        "outputId": "14c1ae62-7441-4e09-9e28-9c9ab3cade92"
      },
      "execution_count": null,
      "outputs": [
        {
          "output_type": "stream",
          "name": "stdout",
          "text": [
            "Multiplication: 15\n"
          ]
        }
      ]
    },
    {
      "cell_type": "code",
      "source": [
        "# Division\n",
        "\n",
        "div = a / b\n",
        "print(f'Division: {div}')"
      ],
      "metadata": {
        "colab": {
          "base_uri": "https://localhost:8080/"
        },
        "id": "sBZ1fud8nL6p",
        "outputId": "45a487fe-8393-4cd0-8537-b114a9cf671e"
      },
      "execution_count": null,
      "outputs": [
        {
          "output_type": "stream",
          "name": "stdout",
          "text": [
            "Division: 1.6666666666666667\n"
          ]
        }
      ]
    },
    {
      "cell_type": "code",
      "source": [
        "# Expo\n",
        "\n",
        "power = a ** b\n",
        "print(power)"
      ],
      "metadata": {
        "colab": {
          "base_uri": "https://localhost:8080/"
        },
        "id": "WIPmQ6tJnRu1",
        "outputId": "ffe503ba-7cad-4930-e925-c61f757211e1"
      },
      "execution_count": null,
      "outputs": [
        {
          "output_type": "stream",
          "name": "stdout",
          "text": [
            "125\n"
          ]
        }
      ]
    },
    {
      "cell_type": "code",
      "source": [
        "input1 = input('How old are you?: ') # String value\n",
        "input2 = input('How old am I?: ') # String value\n",
        "\n",
        "input1_int = int(input1)\n",
        "input2_int = int(input2)\n",
        "\n",
        "sum = input1_int + input2_int\n",
        "print(sum)"
      ],
      "metadata": {
        "colab": {
          "base_uri": "https://localhost:8080/"
        },
        "id": "8vXiCmnNqJ_r",
        "outputId": "1a2c70b8-3c2e-459b-b22c-260c2cf4c7f6"
      },
      "execution_count": null,
      "outputs": [
        {
          "output_type": "stream",
          "name": "stdout",
          "text": [
            "How old are you?: 10\n",
            "How old am I?: 20\n",
            "30\n"
          ]
        }
      ]
    },
    {
      "cell_type": "markdown",
      "source": [
        "\n",
        "\n",
        "DENSITY\n",
        "\n"
      ],
      "metadata": {
        "id": "IOeK7islsIN0"
      }
    },
    {
      "cell_type": "code",
      "source": [
        "area = input('Enter area: ')\n",
        "population = input(\"Enter population: \")\n",
        "\n",
        "area_int = int(area)\n",
        "population_int = int(population)\n",
        "\n",
        "density = population_int / area_int\n",
        "print(f'Average density is: {density}')"
      ],
      "metadata": {
        "colab": {
          "base_uri": "https://localhost:8080/"
        },
        "id": "kkaAmiYJsMpr",
        "outputId": "bec0418b-02ff-478f-9a16-39933c51b630"
      },
      "execution_count": null,
      "outputs": [
        {
          "output_type": "stream",
          "name": "stdout",
          "text": [
            "Enter area: 100\n",
            "Enter population: 500\n",
            "Average density is: 5.0\n"
          ]
        }
      ]
    },
    {
      "cell_type": "markdown",
      "source": [
        "Converting pounds to kilograms\n"
      ],
      "metadata": {
        "id": "ADO_AnInvTHP"
      }
    },
    {
      "cell_type": "code",
      "source": [
        "# 1 pound = 0.453592 kilograms\n"
      ],
      "metadata": {
        "id": "q4sM6S2DvWQi"
      },
      "execution_count": null,
      "outputs": []
    },
    {
      "cell_type": "code",
      "source": [
        "pounds = input(\"Enter the weight in pounds: \")\n",
        "\n",
        "pounds_float = float(pounds)\n",
        "conversion_factor = 0.453592 # constant variable\n",
        "kilograms = (pounds_float * conversion_factor, 2)\n",
        "\n",
        "print(f'Weight in pounds was {pounds}. \\nWeight in kg: {kilograms}')"
      ],
      "metadata": {
        "colab": {
          "base_uri": "https://localhost:8080/"
        },
        "id": "1mtdN9c-vfj5",
        "outputId": "f33c7007-762b-4066-a368-42e12588f178"
      },
      "execution_count": null,
      "outputs": [
        {
          "output_type": "stream",
          "name": "stdout",
          "text": [
            "Enter the weight in pounds: 44\n",
            "Weight in pounds was 44. \n",
            "Weight in kg: (19.958047999999998, 2)\n"
          ]
        }
      ]
    }
  ]
}
