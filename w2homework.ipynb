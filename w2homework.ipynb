{
  "nbformat": 4,
  "nbformat_minor": 0,
  "metadata": {
    "colab": {
      "provenance": [],
      "authorship_tag": "ABX9TyNd7ITs00Zap3lKREHsMIhN",
      "include_colab_link": true
    },
    "kernelspec": {
      "name": "python3",
      "display_name": "Python 3"
    },
    "language_info": {
      "name": "python"
    }
  },
  "cells": [
    {
      "cell_type": "markdown",
      "metadata": {
        "id": "view-in-github",
        "colab_type": "text"
      },
      "source": [
        "<a href=\"https://colab.research.google.com/github/efka87/learning-python/blob/main/w2homework.ipynb\" target=\"_parent\"><img src=\"https://colab.research.google.com/assets/colab-badge.svg\" alt=\"Open In Colab\"/></a>"
      ]
    },
    {
      "cell_type": "code",
      "execution_count": null,
      "metadata": {
        "colab": {
          "base_uri": "https://localhost:8080/"
        },
        "id": "x2-zpYuR0-Df",
        "outputId": "230b5e0a-0974-4917-ff8f-ea375a9ad21e"
      },
      "outputs": [
        {
          "output_type": "stream",
          "name": "stdout",
          "text": [
            "Enter your weight in kilograms: 70\n",
            "Enter your height in meters: 1.75\n",
            "Your BMI is: 22.86\n"
          ]
        }
      ],
      "source": [
        "def calculate_bmi(weight, height):\n",
        "    bmi = weight / (height ** 2)\n",
        "    return bmi\n",
        "\n",
        "weight = float(input(\"Enter your weight in kilograms: \"))\n",
        "height = float(input(\"Enter your height in meters: \"))\n",
        "\n",
        "bmi = calculate_bmi(weight, height)\n",
        "\n",
        "print(\"Your BMI is: {:.2f}\".format(bmi))\n"
      ]
    },
    {
      "cell_type": "code",
      "source": [
        "weight = float(input(\"Enter your weight in kilograms: \"))\n",
        "height = float(input(\"Enter your height in meters: \"))\n",
        "\n",
        "bmi = weight / (height **2)\n",
        "print(f'Your BMI is: {bmi:.2f}')\n",
        "\n"
      ],
      "metadata": {
        "colab": {
          "base_uri": "https://localhost:8080/"
        },
        "id": "1e3BPFzN1RCd",
        "outputId": "3fd3778d-85bb-46da-c1ae-d6c874dd3358"
      },
      "execution_count": null,
      "outputs": [
        {
          "output_type": "stream",
          "name": "stdout",
          "text": [
            "Enter your weight in kilograms: 70\n",
            "Enter your height in meters: 1.75\n",
            "Your BMI is: 22.86\n"
          ]
        }
      ]
    }
  ]
}