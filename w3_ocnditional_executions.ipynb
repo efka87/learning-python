{
  "cells": [
    {
      "cell_type": "markdown",
      "metadata": {
        "id": "view-in-github",
        "colab_type": "text"
      },
      "source": [
        "<a href=\"https://colab.research.google.com/github/efka87/learning-python/blob/main/w3_ocnditional_executions.ipynb\" target=\"_parent\"><img src=\"https://colab.research.google.com/assets/colab-badge.svg\" alt=\"Open In Colab\"/></a>"
      ]
    },
    {
      "cell_type": "code",
      "execution_count": null,
      "metadata": {
        "colab": {
          "base_uri": "https://localhost:8080/"
        },
        "id": "82qHiH0aO_DC",
        "outputId": "97bf62cc-0694-43e7-9861-0549d24cf835"
      },
      "outputs": [
        {
          "name": "stdout",
          "output_type": "stream",
          "text": [
            "True\n"
          ]
        }
      ],
      "source": [
        "# Equal (==)\n",
        "\n",
        "x = 5 # assign a variable\n",
        "y = 5\n",
        "\n",
        "print(x == 5) # compare\n",
        "print('1' == 1)"
      ]
    },
    {
      "cell_type": "code",
      "execution_count": null,
      "metadata": {
        "colab": {
          "base_uri": "https://localhost:8080/"
        },
        "id": "OqFnjY0OP7tb",
        "outputId": "7b63b37f-6466-4faa-8db9-fbe2de1260ac"
      },
      "outputs": [
        {
          "name": "stdout",
          "output_type": "stream",
          "text": [
            "False\n"
          ]
        }
      ],
      "source": [
        "# Not equal (!=)\n",
        "\n",
        "print(x != y)"
      ]
    },
    {
      "cell_type": "code",
      "execution_count": null,
      "metadata": {
        "colab": {
          "base_uri": "https://localhost:8080/"
        },
        "id": "oGvt5CqGQb6I",
        "outputId": "f9daabcb-439b-486e-cae2-929ebb463b35"
      },
      "outputs": [
        {
          "name": "stdout",
          "output_type": "stream",
          "text": [
            "True\n"
          ]
        }
      ],
      "source": [
        "# Greater than (>)\n",
        "\n",
        "print(x > 2)"
      ]
    },
    {
      "cell_type": "code",
      "execution_count": null,
      "metadata": {
        "colab": {
          "base_uri": "https://localhost:8080/"
        },
        "id": "OWtUpvvwQ5Mz",
        "outputId": "576a2ec6-4b29-4d72-bf92-a0c9c5282f9a"
      },
      "outputs": [
        {
          "name": "stdout",
          "output_type": "stream",
          "text": [
            "True\n"
          ]
        }
      ],
      "source": [
        "# Less than (<)\n",
        "\n",
        "print(x < 10)"
      ]
    },
    {
      "cell_type": "code",
      "execution_count": null,
      "metadata": {
        "colab": {
          "base_uri": "https://localhost:8080/"
        },
        "id": "SoSKMDkpRDOu",
        "outputId": "00820796-43f2-47d4-a8dd-7e7407ba2389"
      },
      "outputs": [
        {
          "name": "stdout",
          "output_type": "stream",
          "text": [
            "True\n"
          ]
        }
      ],
      "source": [
        "# Greater than or equal (>=)\n",
        "\n",
        "print(x >= 5)"
      ]
    },
    {
      "cell_type": "code",
      "execution_count": null,
      "metadata": {
        "colab": {
          "base_uri": "https://localhost:8080/"
        },
        "id": "-CciKd6PRa-N",
        "outputId": "4a2108a3-9370-4b72-f712-2f64e1ab0cd9"
      },
      "outputs": [
        {
          "name": "stdout",
          "output_type": "stream",
          "text": [
            "More than or equal to 50\n",
            "Finish\n"
          ]
        }
      ],
      "source": [
        "# If else\n",
        "\n",
        "x = 100\n",
        "\n",
        "if x < 50:\n",
        "  print('Less than 50')\n",
        "else:\n",
        "  print('More than or equal to 50')\n",
        "print('Finish')"
      ]
    },
    {
      "cell_type": "code",
      "execution_count": null,
      "metadata": {
        "colab": {
          "base_uri": "https://localhost:8080/"
        },
        "id": "Bn1BwkBqVly4",
        "outputId": "a7c5ac9a-ed82-46c6-bb12-ce2277fb626f"
      },
      "outputs": [
        {
          "name": "stdout",
          "output_type": "stream",
          "text": [
            "a is above 10\n",
            "This is still in the block\n",
            "This is outside the block\n"
          ]
        }
      ],
      "source": [
        "a = 20\n",
        "\n",
        "if a > 10:\n",
        "  print('a is above 10')\n",
        "  print('This is still in the block')\n",
        "print('This is outside the block')"
      ]
    },
    {
      "cell_type": "code",
      "execution_count": null,
      "metadata": {
        "colab": {
          "base_uri": "https://localhost:8080/"
        },
        "id": "Kd1BFf9hV11x",
        "outputId": "2977e469-56d4-436b-b968-bfc0fd5ddf03"
      },
      "outputs": [
        {
          "name": "stdout",
          "output_type": "stream",
          "text": [
            "How old are you?: 15\n",
            "You are too young to vote\n",
            "Thanks for participating!\n"
          ]
        }
      ],
      "source": [
        "age = int(input('How old are you?: '))\n",
        "\n",
        "if age >= 18:\n",
        "  print('You are eligible to vote')\n",
        "  print('Please proceed to the voting booth')\n",
        "else:\n",
        "  print('You are too young to vote')\n",
        "print('Thanks for participating!')"
      ]
    },
    {
      "cell_type": "code",
      "execution_count": null,
      "metadata": {
        "colab": {
          "base_uri": "https://localhost:8080/"
        },
        "id": "NOumvAi8XU2H",
        "outputId": "4586d7eb-eafc-4a79-da36-a4c12c4fd503"
      },
      "outputs": [
        {
          "name": "stdout",
          "output_type": "stream",
          "text": [
            "Enter a number: 5\n",
            "The number 5 is odd!\n"
          ]
        }
      ],
      "source": [
        "number = int(input('Enter a number: '))\n",
        "\n",
        "# Modulus %\n",
        "# Check if the number is even or odd\n",
        "if number % 2 == 0:\n",
        "  print(f'The number {number} is even!')\n",
        "else:\n",
        "  print(f'The number {number} is odd!')"
      ]
    },
    {
      "cell_type": "markdown",
      "metadata": {
        "id": "69xUY7LpZToG"
      },
      "source": [
        "Payment approval\n"
      ]
    },
    {
      "cell_type": "code",
      "execution_count": null,
      "metadata": {
        "id": "uZWaVzEJZXSJ"
      },
      "outputs": [],
      "source": [
        "# If the transaction can be done based on the account balance"
      ]
    },
    {
      "cell_type": "code",
      "execution_count": null,
      "metadata": {
        "colab": {
          "base_uri": "https://localhost:8080/"
        },
        "id": "1txyIp3GZsvW",
        "outputId": "987cfe73-fea9-47d1-e345-0493a9554ac0"
      },
      "outputs": [
        {
          "name": "stdout",
          "output_type": "stream",
          "text": [
            "Enter your account balance: 50\n",
            "Enter the transaction amount: 5\n",
            "Payment approved!\n"
          ]
        }
      ],
      "source": [
        "account_balance = float(input('Enter your account balance: '))\n",
        "transaction_amount = float(input('Enter the transaction amount: '))\n",
        "\n",
        "if account_balance >= transaction_amount:\n",
        "  print('Payment approved!')\n",
        "\n",
        "else:\n",
        "  print('You dont have enough money!')"
      ]
    },
    {
      "cell_type": "code",
      "execution_count": null,
      "metadata": {
        "id": "NnhAY0OMeSsV"
      },
      "outputs": [],
      "source": [
        "# Access managment system"
      ]
    },
    {
      "cell_type": "code",
      "execution_count": null,
      "metadata": {
        "colab": {
          "base_uri": "https://localhost:8080/"
        },
        "id": "xRnG11SweVzK",
        "outputId": "84a3ec6c-82e0-43b4-f156-29e8fc4a9408"
      },
      "outputs": [
        {
          "name": "stdout",
          "output_type": "stream",
          "text": [
            "Enter the username: user123\n",
            "Enter the password: pass123\n",
            "Access allowed\n"
          ]
        }
      ],
      "source": [
        "# password\n",
        "# username\n",
        "\n",
        "STORED_USERNAME = 'user123'\n",
        "STORED_PASSWORD = 'pass123'\n",
        "\n",
        "username = (input('Enter the username: '))\n",
        "password = (input('Enter the password: '))\n",
        "\n",
        "if username == STORED_USERNAME and password == STORED_PASSWORD:\n",
        "  print('Access allowed')\n",
        "else:\n",
        "  print('Access is denied')"
      ]
    },
    {
      "cell_type": "markdown",
      "metadata": {
        "id": "Kppj6AJNhXNC"
      },
      "source": [
        "Multi way decisions"
      ]
    },
    {
      "cell_type": "code",
      "execution_count": null,
      "metadata": {
        "colab": {
          "base_uri": "https://localhost:8080/"
        },
        "id": "0gYlPTBBhEDa",
        "outputId": "46080fb7-24c8-4959-914f-5e6401d79993"
      },
      "outputs": [
        {
          "name": "stdout",
          "output_type": "stream",
          "text": [
            "Large\n",
            "all done\n"
          ]
        }
      ],
      "source": [
        "x = 100\n",
        "\n",
        "if x < 5:\n",
        "  print('Small')\n",
        "elif x < 15:\n",
        "  print('Medium')\n",
        "else:\n",
        "  print('Large')\n",
        "print('all done')"
      ]
    },
    {
      "cell_type": "markdown",
      "metadata": {
        "id": "1jt8ZhdViDgK"
      },
      "source": [
        "Grading"
      ]
    },
    {
      "cell_type": "code",
      "execution_count": null,
      "metadata": {
        "colab": {
          "base_uri": "https://localhost:8080/",
          "height": 105
        },
        "id": "WQ8k_GrYiDKn",
        "outputId": "f35b31d2-2f20-40cc-a6a6-ccab11b5a18f"
      },
      "outputs": [
        {
          "ename": "IndentationError",
          "evalue": "expected an indented block after 'try' statement on line 2 (<ipython-input-46-ac634e9f45b7>, line 3)",
          "output_type": "error",
          "traceback": [
            "\u001b[0;36m  File \u001b[0;32m\"<ipython-input-46-ac634e9f45b7>\"\u001b[0;36m, line \u001b[0;32m3\u001b[0m\n\u001b[0;31m    score = int(input('Enter your score: '))\u001b[0m\n\u001b[0m    ^\u001b[0m\n\u001b[0;31mIndentationError\u001b[0m\u001b[0;31m:\u001b[0m expected an indented block after 'try' statement on line 2\n"
          ]
        }
      ],
      "source": [
        "# Grading in scale 100, convert 100 to ABCDEF\n",
        "\n",
        "score = int(input('Enter your score: '))\n",
        "\n",
        "if score >= 90:\n",
        "  print('Your grade is A!')\n",
        "elif score >= 80:\n",
        "  print('Your code is B!')\n",
        "elif score >= 70:\n",
        "  print('Your code is C!')\n",
        "elif score >= 60:\n",
        "  print('Your code is D!')\n",
        "else:\n",
        "  print('You have failed!')\n"
      ]
    },
    {
      "cell_type": "code",
      "execution_count": null,
      "metadata": {
        "colab": {
          "base_uri": "https://localhost:8080/"
        },
        "id": "GKX0YGWAlQ0-",
        "outputId": "f9f03067-a323-4596-cd34-2ea1835249cc"
      },
      "outputs": [
        {
          "name": "stdout",
          "output_type": "stream",
          "text": [
            "Enter your score: 40\n",
            "You have failed!\n"
          ]
        }
      ],
      "source": [
        "# Grading in scale 100, convert 100 to ABCDEF\n",
        "try:\n",
        "  score = int(input('Enter your score: '))\n",
        "\n",
        "  if score >= 90:\n",
        "    print('Your grade is A!')\n",
        "  elif score >= 80:\n",
        "   print('Your code is B!')\n",
        "  elif score >= 70:\n",
        "    print('Your code is C!')\n",
        "  elif score >= 60:\n",
        "    print('Your code is D!')\n",
        "  else:\n",
        "   print('You have failed!')\n",
        "except:\n",
        "  print('Wrong input')"
      ]
    },
    {
      "cell_type": "code",
      "execution_count": null,
      "metadata": {
        "colab": {
          "base_uri": "https://localhost:8080/"
        },
        "id": "HGrlmz-Pm0Cu",
        "outputId": "ec2510fb-5f8c-492f-b5c9-b1b714ec14bb"
      },
      "outputs": [
        {
          "name": "stdout",
          "output_type": "stream",
          "text": [
            "Enter your account balance: f\n",
            "Wrong input, expected was could not convert string to float: 'f' !\n"
          ]
        }
      ],
      "source": [
        "try:\n",
        "  account_balance = float(input('Enter your account balance: '))\n",
        "  transaction_amount = float(input('Enter the transaction amount: '))\n",
        "\n",
        "  if account_balance >= transaction_amount:\n",
        "    print('Payment approved!')\n",
        "\n",
        "  else:\n",
        "    print('You dont have enough money!')\n",
        "\n",
        "except Exception as e:\n",
        "  print(f'Wrong input, expected was {e} !')"
      ]
    },
    {
      "cell_type": "markdown",
      "metadata": {
        "id": "RCh7Gq2tqn74"
      },
      "source": [
        "Group task\n",
        "Create a Python program for temperature conversion between Celsius and Fahrenheit scales. The program should prompt users to 1. select the direction of conversion, 2. accept input for the temperature value, and 3. accurately perform the conversion (use IF and/or ELSE). Output should be displayed with formatted strings showing both the original and converted temperatures."
      ]
    },
    {
      "cell_type": "code",
      "execution_count": null,
      "metadata": {
        "colab": {
          "background_save": true,
          "base_uri": "https://localhost:8080/"
        },
        "id": "TIpT0qlnqpaN",
        "outputId": "81368025-cf36-4aa4-bc75-6ff4db3d8dc9"
      },
      "outputs": [
        {
          "name": "stdout",
          "output_type": "stream",
          "text": [
            "Welcome to temperature conversion!\n",
            "For converting C to F, choose: 1.\n",
            "For converting F to C, choose: 2.\n"
          ]
        }
      ],
      "source": [
        "try:\n",
        "    print('Welcome to temperature conversion!\\nFor converting C to F, choose: 1.\\nFor converting F to C, choose: 2.')\n",
        "\n",
        "    selection = int(input('Your choice: '))\n",
        "\n",
        "    if selection == 1:\n",
        "        celsius = int(input(\"Enter the temp. in C:\\n\"))\n",
        "        fahrenheit = (1.8 * celsius) + 32\n",
        "        print(\"Temperature in F:\", fahrenheit)\n",
        "    elif selection == 2:\n",
        "        fahrenheit = int(input(\"Enter the temp. in F :\\n\"))\n",
        "        celsius = (fahrenheit - 32) / 1.8\n",
        "        print(\"Temperature in C :\", celsius)\n",
        "    else:\n",
        "        print('Invalid selection. First choose 1 or 2')\n",
        "except Exception as e:\n",
        "    print(f'Wrong input, expected was {e}')\n"
      ]
    }
  ],
  "metadata": {
    "colab": {
      "provenance": [],
      "authorship_tag": "ABX9TyP6MERN1RNCkKzpZENrnPIL",
      "include_colab_link": true
    },
    "kernelspec": {
      "display_name": "Python 3",
      "name": "python3"
    },
    "language_info": {
      "name": "python"
    }
  },
  "nbformat": 4,
  "nbformat_minor": 0
}