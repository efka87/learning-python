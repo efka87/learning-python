{
  "nbformat": 4,
  "nbformat_minor": 0,
  "metadata": {
    "colab": {
      "provenance": [],
      "authorship_tag": "ABX9TyNsy8HbVN+gZpDuGunMBI0t",
      "include_colab_link": true
    },
    "kernelspec": {
      "name": "python3",
      "display_name": "Python 3"
    },
    "language_info": {
      "name": "python"
    }
  },
  "cells": [
    {
      "cell_type": "markdown",
      "metadata": {
        "id": "view-in-github",
        "colab_type": "text"
      },
      "source": [
        "<a href=\"https://colab.research.google.com/github/efka87/learning-python/blob/main/w4_conditional_execution.ipynb\" target=\"_parent\"><img src=\"https://colab.research.google.com/assets/colab-badge.svg\" alt=\"Open In Colab\"/></a>"
      ]
    },
    {
      "cell_type": "code",
      "execution_count": null,
      "metadata": {
        "colab": {
          "base_uri": "https://localhost:8080/"
        },
        "id": "i-tCtlTvRnJ7",
        "outputId": "9c953af9-846e-43a0-efcf-96aafb43dac0"
      },
      "outputs": [
        {
          "output_type": "stream",
          "name": "stdout",
          "text": [
            "Write number 1:200\n",
            "Write number 2:100\n",
            "200 is greater than 100\n"
          ]
        }
      ],
      "source": [
        "# compare two numbers\n",
        "\n",
        "num1 = int(input('Write number 1:'))\n",
        "num2 = int(input('Write number 2:'))\n",
        "\n",
        "if num1 >= num2:\n",
        "  if num1 == num2:\n",
        "    print(f'{num1} is equal to {num2}')\n",
        "  else:\n",
        "    print(f'{num1} is greater than {num2}')\n",
        "else:\n",
        "  print(f'{num1} is smaller than {num2}')\n",
        "\n",
        "\n"
      ]
    },
    {
      "cell_type": "markdown",
      "source": [],
      "metadata": {
        "id": "IatEEJvRSPpW"
      }
    },
    {
      "cell_type": "code",
      "source": [
        "# try, exce0t and alse\n",
        "\n",
        "stock = input('Input stock: ')\n",
        "\n",
        "try:\n",
        "    product_stock = int(stock)\n",
        "except:\n",
        "    print('Wrong input!')\n",
        "else:\n",
        "  if product_stock > 10:\n",
        "    print('Stock level is sufficient!')\n",
        "  else:\n",
        "    print('Low stock!')"
      ],
      "metadata": {
        "colab": {
          "base_uri": "https://localhost:8080/"
        },
        "id": "R06yMKAHV-5d",
        "outputId": "a11cfd29-0f44-4eac-f653-ef6d631d73cf"
      },
      "execution_count": null,
      "outputs": [
        {
          "output_type": "stream",
          "name": "stdout",
          "text": [
            "Input stock: öö\n",
            "Wrong input!\n"
          ]
        }
      ]
    },
    {
      "cell_type": "code",
      "source": [
        "repeat = True\n",
        "\n",
        "while repeat:\n",
        "    stock = input('Input stock: ')\n",
        "\n",
        "    try:\n",
        "        product_stock = int(stock)\n",
        "    except:\n",
        "        print('Wrong input!')\n",
        "    else:\n",
        "        if product_stock > 10:\n",
        "            print('Stock level is sufficient!')\n",
        "        else:\n",
        "            print('Low stock!')\n",
        "        repeat = False"
      ],
      "metadata": {
        "colab": {
          "base_uri": "https://localhost:8080/"
        },
        "id": "9s-HSKYLYMtW",
        "outputId": "67a2de30-3fa9-444b-ffbb-98f0b3be7e11"
      },
      "execution_count": null,
      "outputs": [
        {
          "output_type": "stream",
          "name": "stdout",
          "text": [
            "Input stock: ff\n",
            "Wrong input!\n",
            "Input stock: 45\n",
            "Stock level is sufficient!\n"
          ]
        }
      ]
    },
    {
      "cell_type": "markdown",
      "source": [
        "Prompt the user to enter their name, the speed limit (in km/h), and their actual speed (in km/h).\n",
        "Calculate the difference between the actual speed and the speed limit, and then calculate the fine based on the difference (3 euros per km/h over the limit).\n",
        "Handle potential non-integer inputs for speed limit and actual speed using a try block.\n",
        "If non-integer inputs are detected, set the speed limit to -1 to indicate wrong speed values.\n",
        "If the speed limit is -1, print \"Wrong speed values entered. Please enter km/h.\"\n",
        "If the actual speed does not exceed the speed limit, print \"Speed limit is not exceeded. No fine applied.\"\n",
        "If the actual speed exceeds the speed limit, check if the fine is less than or equal to 190 euros. If so, print \"{name}, your fine for speeding is {fine} euros.\" - Otherwise, print \"{name}, your fine for speeding is 190 euros.\""
      ],
      "metadata": {
        "id": "_aB9UupwZUwA"
      }
    },
    {
      "cell_type": "code",
      "source": [
        "name = input('Please write your name: ')\n",
        "speed_limit = input('Please input the speed limit: ')\n",
        "actual_speed = input('Please input your actual speed: ')\n",
        "\n",
        "try:\n",
        "  speed_limit = int(speed_limit)\n",
        "  actual_speed = int(actual_speed)\n",
        "except:\n",
        "  print(\"Wrong speed values entered. Please enter km/h.\")\n",
        "else:\n",
        "  difference = actual_speed - speed_limit\n",
        "  fine = difference * 3\n",
        "  if speed_limit < 0 or actual_speed < 0:\n",
        "    print('Speed limit MUST be positive')\n",
        "  elif speed_limit >= actual_speed: #difference < 0\n",
        "    print(\"Speed limit is not exceeded. No fine applied.\")\n",
        "  else:\n",
        "    fine = min(190, difference * 3)\n",
        "    print(f'{name}, your fine for speeding is {fine} euros.')\n",
        "    if fine > 190:\n",
        "      print(f\"{name}, your fine for speeding is 190 euros.\")\n",
        "    else:\n",
        "      print(f\"{name}, your fine for speeding is {fine} euros.\")"
      ],
      "metadata": {
        "colab": {
          "base_uri": "https://localhost:8080/"
        },
        "id": "OHBNedJuZT-w",
        "outputId": "c88e0d6f-4d82-4054-e91b-c5b388929188"
      },
      "execution_count": null,
      "outputs": [
        {
          "output_type": "stream",
          "name": "stdout",
          "text": [
            "Please write your name: eve\n",
            "Please input the speed limit: 50\n",
            "Please input your actual speed: \n",
            "Wrong speed values entered. Please enter km/h.\n"
          ]
        }
      ]
    },
    {
      "cell_type": "markdown",
      "source": [
        "LISTS"
      ],
      "metadata": {
        "id": "wdeYXy7Zi0vf"
      }
    },
    {
      "cell_type": "code",
      "source": [
        "flowers = \"pink primrose,hard-leaved pocket orchid,canterbury bells,sweet pea,english marigold,tiger lily,moon orchid,bird of paradise,monkshood,globe thistle\"\n",
        "print(type(flowers))"
      ],
      "metadata": {
        "colab": {
          "base_uri": "https://localhost:8080/"
        },
        "id": "nSHdD2UFixdO",
        "outputId": "8d38fbc4-738e-4c4b-a185-73a4fa9d7e19"
      },
      "execution_count": null,
      "outputs": [
        {
          "output_type": "stream",
          "name": "stdout",
          "text": [
            "<class 'str'>\n"
          ]
        }
      ]
    },
    {
      "cell_type": "code",
      "source": [
        "flowers = [\"pink primrose\",\"hard-leaved pocket orchid\",\"canterbury bells\",\"sweet pea\",\"english marigold\",\"tiger lily\",\"moon orchid\",\"bird of paradise\",\"monkshood\",\"globe thistle\"]\n",
        "print(type(flowers))\n",
        "print(len(flowers))\n"
      ],
      "metadata": {
        "colab": {
          "base_uri": "https://localhost:8080/"
        },
        "id": "9G4L9IUEjVhW",
        "outputId": "06f907a8-bb6f-4ef1-f1ad-2e41052d0b67"
      },
      "execution_count": null,
      "outputs": [
        {
          "output_type": "stream",
          "name": "stdout",
          "text": [
            "<class 'list'>\n",
            "10\n"
          ]
        }
      ]
    },
    {
      "cell_type": "code",
      "source": [
        "print('First entry: ', flowers[0])\n",
        "print(flowers[1])\n",
        "\n",
        "print(\"Last entry is: \", flowers[9])"
      ],
      "metadata": {
        "colab": {
          "base_uri": "https://localhost:8080/"
        },
        "id": "AjvQmtBflUab",
        "outputId": "bf69a604-9fdf-468e-9221-1120016445a4"
      },
      "execution_count": null,
      "outputs": [
        {
          "output_type": "stream",
          "name": "stdout",
          "text": [
            "First entry:  pink primrose\n",
            "hard-leaved pocket orchid\n",
            "Last entry is:  globe thistle\n"
          ]
        }
      ]
    },
    {
      "cell_type": "code",
      "source": [
        "print(flowers[1:5])\n",
        "\n",
        "print(flowers[:5])"
      ],
      "metadata": {
        "colab": {
          "base_uri": "https://localhost:8080/"
        },
        "id": "iAbgMKc9moqz",
        "outputId": "ce2ffcbd-cf9b-4586-a151-fc4e3358ed2d"
      },
      "execution_count": null,
      "outputs": [
        {
          "output_type": "stream",
          "name": "stdout",
          "text": [
            "['hard-leaved pocket orchid', 'canterbury bells', 'sweet pea', 'english marigold']\n",
            "['pink primrose', 'hard-leaved pocket orchid', 'canterbury bells', 'sweet pea', 'english marigold']\n"
          ]
        }
      ]
    },
    {
      "cell_type": "code",
      "source": [
        "print('Every other item:', flowers[::2])"
      ],
      "metadata": {
        "colab": {
          "base_uri": "https://localhost:8080/"
        },
        "id": "EXz4lHEpm04p",
        "outputId": "dbeaa6de-c98f-4c84-d62e-7872438bfa61"
      },
      "execution_count": null,
      "outputs": [
        {
          "output_type": "stream",
          "name": "stdout",
          "text": [
            "Every other item: ['pink primrose', 'canterbury bells', 'english marigold', 'moon orchid', 'monkshood']\n"
          ]
        }
      ]
    },
    {
      "cell_type": "code",
      "source": [
        "for item in flowers[::2]:\n",
        "  print(item)"
      ],
      "metadata": {
        "colab": {
          "base_uri": "https://localhost:8080/"
        },
        "id": "jE1q18wZnXrC",
        "outputId": "f42e2d01-ef36-49b7-abb3-9dff26663e84"
      },
      "execution_count": null,
      "outputs": [
        {
          "output_type": "stream",
          "name": "stdout",
          "text": [
            "pink primrose\n",
            "canterbury bells\n",
            "english marigold\n",
            "moon orchid\n",
            "monkshood\n"
          ]
        }
      ]
    },
    {
      "cell_type": "code",
      "source": [
        "my_list = ['one', 'two', 'three', 4,5]\n",
        "print(my_list[-2])"
      ],
      "metadata": {
        "colab": {
          "base_uri": "https://localhost:8080/"
        },
        "id": "HhRhTtqYoJC2",
        "outputId": "eab504e7-9000-44d2-d44e-0e29b4b9674c"
      },
      "execution_count": null,
      "outputs": [
        {
          "output_type": "stream",
          "name": "stdout",
          "text": [
            "4\n"
          ]
        }
      ]
    },
    {
      "cell_type": "code",
      "source": [
        "my_list = my_list + ['new item'] # adding new item"
      ],
      "metadata": {
        "id": "vVYXNB73pEzL"
      },
      "execution_count": null,
      "outputs": []
    },
    {
      "cell_type": "code",
      "source": [
        "my_list"
      ],
      "metadata": {
        "colab": {
          "base_uri": "https://localhost:8080/"
        },
        "id": "HmKC-qktpQ6A",
        "outputId": "3c97fe70-1818-4c6d-aaa5-3b76c483f286"
      },
      "execution_count": null,
      "outputs": [
        {
          "output_type": "execute_result",
          "data": {
            "text/plain": [
              "['one', 'two', 'three', 4, 5, 'new item']"
            ]
          },
          "metadata": {},
          "execution_count": 36
        }
      ]
    },
    {
      "cell_type": "code",
      "source": [
        "my_list[1] = 2\n",
        "my_list"
      ],
      "metadata": {
        "colab": {
          "base_uri": "https://localhost:8080/"
        },
        "id": "YG2dSrsips0K",
        "outputId": "b9c2ed45-01c7-49fb-b0fa-8a668424fae4"
      },
      "execution_count": null,
      "outputs": [
        {
          "output_type": "execute_result",
          "data": {
            "text/plain": [
              "['one', 2, 'three', 4, 5, 'new item']"
            ]
          },
          "metadata": {},
          "execution_count": 38
        }
      ]
    },
    {
      "cell_type": "code",
      "source": [
        "my_list.append('append me')\n",
        "my_list\n"
      ],
      "metadata": {
        "colab": {
          "base_uri": "https://localhost:8080/"
        },
        "id": "O-6vvlH3qWqk",
        "outputId": "094cb69d-859b-48c8-ea87-6895a9da73d7"
      },
      "execution_count": null,
      "outputs": [
        {
          "output_type": "execute_result",
          "data": {
            "text/plain": [
              "['one', 2, 'three', 'append me', 'append me', 'append me', 'append me']"
            ]
          },
          "metadata": {},
          "execution_count": 44
        }
      ]
    },
    {
      "cell_type": "code",
      "source": [
        "my_list.pop(3)\n",
        "my_list"
      ],
      "metadata": {
        "colab": {
          "base_uri": "https://localhost:8080/"
        },
        "id": "9tMlT9SGrCOs",
        "outputId": "7bc39937-fbd3-49f5-e82d-2ff9a275afa8"
      },
      "execution_count": null,
      "outputs": [
        {
          "output_type": "execute_result",
          "data": {
            "text/plain": [
              "['one', 2, 'three', 'append me', 'append me', 'append me']"
            ]
          },
          "metadata": {},
          "execution_count": 43
        }
      ]
    },
    {
      "cell_type": "markdown",
      "source": [
        "TEAMWORK LISTS\n"
      ],
      "metadata": {
        "id": "2VFjp10PsPVW"
      }
    },
    {
      "cell_type": "code",
      "source": [
        "numbers = [10, 20, 30, 40, 50]\n",
        "print(f'list is: {numbers}')\n",
        "\n",
        "print(f'Length is: {len(numbers)}')  # Length of the list\n",
        "\n",
        "print(f'first element: {numbers[0]}') # prints the first of the list\n",
        "\n",
        "print(f'last element: {numbers[-1]}') # prints the last of the list\n",
        "\n",
        "numbers.append(60) # adds 60 to the list\n",
        "print(f'last element: {numbers}')\n",
        "\n",
        "numbers.pop(1) # removes the second\n",
        "print(f'removed second element and list now: {numbers}')\n",
        "\n",
        "specific_number = 30 # checks if a specific number is in the list\n",
        "if specific_number in numbers:\n",
        "  print(f'specific number {specific_number} is in list')\n",
        "else:\n",
        "  print(f'specific number {specific_number} is not in the list')"
      ],
      "metadata": {
        "colab": {
          "base_uri": "https://localhost:8080/"
        },
        "id": "LqcVS31rsUxP",
        "outputId": "c284a91a-8cd5-4e1a-e9c0-72f68c546c4d"
      },
      "execution_count": null,
      "outputs": [
        {
          "output_type": "stream",
          "name": "stdout",
          "text": [
            "list is: [10, 20, 30, 40, 50]\n",
            "Length is: 5\n",
            "first element: 10\n",
            "last element: 50\n",
            "last element: [10, 20, 30, 40, 50, 60]\n",
            "removed second element and list now: [10, 30, 40, 50, 60]\n",
            "specific number 30 is in list\n"
          ]
        }
      ]
    }
  ]
}