{
  "nbformat": 4,
  "nbformat_minor": 0,
  "metadata": {
    "colab": {
      "provenance": [],
      "authorship_tag": "ABX9TyPvb7Ikv4+8MNT3oKBKuJ1A",
      "include_colab_link": true
    },
    "kernelspec": {
      "name": "python3",
      "display_name": "Python 3"
    },
    "language_info": {
      "name": "python"
    }
  },
  "cells": [
    {
      "cell_type": "markdown",
      "metadata": {
        "id": "view-in-github",
        "colab_type": "text"
      },
      "source": [
        "<a href=\"https://colab.research.google.com/github/efka87/learning-python/blob/main/w5_loops_in_python.ipynb\" target=\"_parent\"><img src=\"https://colab.research.google.com/assets/colab-badge.svg\" alt=\"Open In Colab\"/></a>"
      ]
    },
    {
      "cell_type": "code",
      "execution_count": null,
      "metadata": {
        "colab": {
          "base_uri": "https://localhost:8080/"
        },
        "id": "UTlCC0iuUpKI",
        "outputId": "1a8786c4-3f43-4a55-f9fa-621536361086"
      },
      "outputs": [
        {
          "output_type": "execute_result",
          "data": {
            "text/plain": [
              "float"
            ]
          },
          "metadata": {},
          "execution_count": 10
        }
      ],
      "source": [
        "age = 185.5\n",
        "type(age)\n"
      ]
    },
    {
      "cell_type": "code",
      "source": [
        "fruits = ['apple', 'orange', 'banana', 'grape', 'kiwi']\n",
        "print(fruits)\n",
        "user_input = input(\"Enter a fruit:\")\n",
        "\n",
        "if user_input in fruits:\n",
        "  print(f'yes, {user_input} is in the list')\n",
        "else:\n",
        "  print(f'no, {user_input} is not in the list')"
      ],
      "metadata": {
        "colab": {
          "base_uri": "https://localhost:8080/"
        },
        "id": "peP7RCT-XsTH",
        "outputId": "d911ee61-354f-48f3-e619-5a3a6a141f4e"
      },
      "execution_count": null,
      "outputs": [
        {
          "output_type": "stream",
          "name": "stdout",
          "text": [
            "['apple', 'orange', 'banana', 'grape', 'kiwi']\n",
            "Enter a fruit:kiivi\n",
            "no, kiivi is not in the list\n"
          ]
        }
      ]
    },
    {
      "cell_type": "code",
      "source": [
        "numbers = [1,20,35,400,5]\n",
        "\n",
        "user_input = int(input(\"Enter a number:\"))\n",
        "\n",
        "if user_input in numbers:\n",
        "  if (user_input % 2 == 0):\n",
        "    print(f'the number {user_input} is even')\n",
        "  else:\n",
        "    print(f'the number {user_input} is odd')\n",
        "else:\n",
        "  print(f'the number {user_input} is not in the list')"
      ],
      "metadata": {
        "colab": {
          "base_uri": "https://localhost:8080/"
        },
        "id": "3xyh8nu4ZUOG",
        "outputId": "23adeff4-d376-4155-d6ac-bdd73fb81dc2"
      },
      "execution_count": null,
      "outputs": [
        {
          "output_type": "stream",
          "name": "stdout",
          "text": [
            "Enter a number:400\n",
            "the number 400 is even\n"
          ]
        }
      ]
    },
    {
      "cell_type": "markdown",
      "source": [
        "List methods"
      ],
      "metadata": {
        "id": "2cONPAZbbzFu"
      }
    },
    {
      "cell_type": "code",
      "source": [
        "# APPEND\n",
        "\n",
        "items = ['apple', 'kiwi', 'orange']\n",
        "print(f'items from first list are {items}')\n",
        "\n",
        "my_value = 'banana'\n",
        "items.append(my_value)\n",
        "print(f'changed items {items}')"
      ],
      "metadata": {
        "colab": {
          "base_uri": "https://localhost:8080/"
        },
        "id": "X5V1Yca4cBZl",
        "outputId": "5bb3a8f1-27d9-4c2e-aecd-05013ef71cdd"
      },
      "execution_count": null,
      "outputs": [
        {
          "output_type": "stream",
          "name": "stdout",
          "text": [
            "items from first list are ['apple', 'kiwi', 'orange']\n",
            "changed items ['apple', 'kiwi', 'orange', 'banana']\n"
          ]
        }
      ]
    },
    {
      "cell_type": "code",
      "source": [
        "# COPY\n",
        "\n",
        "original_list = [1,2,3,4,5]\n",
        "copied_list = original_list.copy()\n",
        "\n",
        "original_list.append(6)\n",
        "\n",
        "print(original_list)\n",
        "print(copied_list)"
      ],
      "metadata": {
        "colab": {
          "base_uri": "https://localhost:8080/"
        },
        "id": "8gVXnuqfc3Jy",
        "outputId": "12361e74-1edd-4c56-9ae1-61f1aeef7a67"
      },
      "execution_count": null,
      "outputs": [
        {
          "output_type": "stream",
          "name": "stdout",
          "text": [
            "[1, 2, 3, 4, 5, 6]\n",
            "[1, 2, 3, 4, 5]\n"
          ]
        }
      ]
    },
    {
      "cell_type": "code",
      "source": [
        "# COUNT - counts how many times a number appears in a list\n",
        "\n",
        "numbers = [1,2,5,7,3,66,5]\n",
        "\n",
        "target_number = 5\n",
        "count = numbers.count(target_number)\n",
        "print(f'The number {target_number} appears {count} times in the list')"
      ],
      "metadata": {
        "colab": {
          "base_uri": "https://localhost:8080/"
        },
        "id": "iRLpZF9yd5-7",
        "outputId": "7645ce08-75b6-484d-8de8-5826b5ad2ecd"
      },
      "execution_count": null,
      "outputs": [
        {
          "output_type": "stream",
          "name": "stdout",
          "text": [
            "The number 5 appears 2 times in the list\n"
          ]
        }
      ]
    },
    {
      "cell_type": "code",
      "source": [
        "# INDEX shows the strings index in the list\n",
        "\n",
        "fruits = ['apple', 'banana', 'orange', 'apple']\n",
        "\n",
        "fruits_index = fruits.index('apple')\n",
        "print(f'index of \"apple\" is: {fruits_index}')"
      ],
      "metadata": {
        "colab": {
          "base_uri": "https://localhost:8080/"
        },
        "id": "WURPp6rzf-2W",
        "outputId": "9900236a-c61e-4fe7-b43f-a833c26f7b71"
      },
      "execution_count": null,
      "outputs": [
        {
          "output_type": "stream",
          "name": "stdout",
          "text": [
            "index of \"apple\" is: 0\n"
          ]
        }
      ]
    },
    {
      "cell_type": "code",
      "source": [
        "# INSERT - inserts some number to a specific place\n",
        "\n",
        "numbers = [1,5,2,8,7,77]\n",
        "\n",
        "numbers.insert(2, 10)\n",
        "\n",
        "print(f' list after modifying: {numbers} ')\n"
      ],
      "metadata": {
        "colab": {
          "base_uri": "https://localhost:8080/"
        },
        "id": "KZbYahRWgye8",
        "outputId": "2bb62cd2-221b-4784-b098-58799cfa3916"
      },
      "execution_count": null,
      "outputs": [
        {
          "output_type": "stream",
          "name": "stdout",
          "text": [
            " list after modifying: [1, 5, 10, 2, 8, 7, 77] \n"
          ]
        }
      ]
    },
    {
      "cell_type": "code",
      "source": [
        "# POP - removes some number\n",
        "\n",
        "numbers = [1,4,7,9,33,2]\n",
        "\n",
        "numbers.pop(0)\n",
        "print(f'modified {numbers}')"
      ],
      "metadata": {
        "colab": {
          "base_uri": "https://localhost:8080/"
        },
        "id": "hAQj8Fuchj9Z",
        "outputId": "550f07c0-495a-4c6b-81a4-c35cec00a482"
      },
      "execution_count": null,
      "outputs": [
        {
          "output_type": "stream",
          "name": "stdout",
          "text": [
            "modified [4, 7, 9, 33, 2]\n"
          ]
        }
      ]
    },
    {
      "cell_type": "code",
      "source": [
        "# SORT\n",
        "numbers = [3, 1, 2]\n",
        "numbers.sort()\n",
        "print(numbers)"
      ],
      "metadata": {
        "colab": {
          "base_uri": "https://localhost:8080/"
        },
        "id": "rMhX4zz7h9A0",
        "outputId": "e62f701c-c317-4f50-eec1-8593a4ce6fa6"
      },
      "execution_count": null,
      "outputs": [
        {
          "output_type": "stream",
          "name": "stdout",
          "text": [
            "[1, 2, 3]\n"
          ]
        }
      ]
    },
    {
      "cell_type": "code",
      "source": [
        "# REVERSE\n",
        "numbers = [3, 1, 2, 7, 4, 10, 2]\n",
        "numbers.sort()\n",
        "print(numbers)\n",
        "numbers.reverse()\n",
        "print(numbers)"
      ],
      "metadata": {
        "colab": {
          "base_uri": "https://localhost:8080/"
        },
        "id": "pRu8IYE7iy2T",
        "outputId": "8a22d355-1597-4a4f-8c6a-6057b8599f1c"
      },
      "execution_count": null,
      "outputs": [
        {
          "output_type": "stream",
          "name": "stdout",
          "text": [
            "[1, 2, 2, 3, 4, 7, 10]\n",
            "[10, 7, 4, 3, 2, 2, 1]\n"
          ]
        }
      ]
    },
    {
      "cell_type": "code",
      "source": [
        "# create a list of 5 number elements\n",
        "\n",
        "numbers = [1,4,7,3,9]\n",
        "print(numbers)\n",
        "\n",
        "# calculate maximum value of numbers\n",
        "\n",
        "max_value = max(numbers)\n",
        "print(max_value)\n",
        "\n",
        "#calculate min value\n",
        "\n",
        "min_value = min(numbers)\n",
        "print(min_value)\n",
        "\n",
        "#calculate average value\n",
        "\n",
        "average_value = sum(numbers) / len(numbers)\n",
        "print(average_value)\n",
        "\n",
        "\n",
        "# check if the ave is higher than 3\n",
        "if average_value > 3:\n",
        "    print(\"The average  is higher than 3.\")\n",
        "else:\n",
        "  print(\"The average is lower than 3.\")\n",
        "\n",
        "\n",
        "#sort the numbers\n",
        "\n",
        "numbers.sort()\n",
        "print(numbers)\n",
        "\n",
        "#remove first number\n",
        "\n",
        "numbers.pop(0)\n",
        "print(numbers)\n",
        "\n",
        "#add name\n",
        "\n",
        "my_name = 'Evelin'\n",
        "numbers.append(my_name)\n",
        "\n",
        "#calculate at what index is your name\n",
        "index = numbers.index('Evelin')\n",
        "print(f'Your name is index {index}')"
      ],
      "metadata": {
        "colab": {
          "base_uri": "https://localhost:8080/"
        },
        "id": "NuL1cr9Cl2XE",
        "outputId": "5d0b1408-4b88-4f1b-a4ea-6cde17ae8f56"
      },
      "execution_count": null,
      "outputs": [
        {
          "output_type": "stream",
          "name": "stdout",
          "text": [
            "[1, 4, 7, 3, 9]\n",
            "9\n",
            "1\n",
            "4.8\n",
            "The average  is higher than 3.\n",
            "[1, 3, 4, 7, 9]\n",
            "[3, 4, 7, 9]\n",
            "Your name is index 4\n"
          ]
        }
      ]
    },
    {
      "cell_type": "markdown",
      "source": [
        "RANGE"
      ],
      "metadata": {
        "id": "Rwj7iFnQry8O"
      }
    },
    {
      "cell_type": "code",
      "source": [
        "list(range(10, 100, 10)).  #the last element is not included\n"
      ],
      "metadata": {
        "colab": {
          "base_uri": "https://localhost:8080/"
        },
        "id": "efofNUJDspg-",
        "outputId": "18b82509-a55b-42d8-f21e-912499669424"
      },
      "execution_count": null,
      "outputs": [
        {
          "output_type": "execute_result",
          "data": {
            "text/plain": [
              "[10, 20, 30, 40, 50, 60, 70, 80, 90]"
            ]
          },
          "metadata": {},
          "execution_count": 55
        }
      ]
    },
    {
      "cell_type": "code",
      "source": [
        "numbers_with_range = range(1, 7)\n",
        "\n",
        "for i in numbers_with_range:\n",
        "  print(i)"
      ],
      "metadata": {
        "colab": {
          "base_uri": "https://localhost:8080/"
        },
        "id": "f1RTj7IErv2s",
        "outputId": "976b6ec7-1102-49cc-a3e7-02d2e4bb4db8"
      },
      "execution_count": null,
      "outputs": [
        {
          "output_type": "stream",
          "name": "stdout",
          "text": [
            "1\n",
            "2\n",
            "3\n",
            "4\n",
            "5\n",
            "6\n"
          ]
        }
      ]
    },
    {
      "cell_type": "code",
      "source": [
        "numbers_with_range = range(1, 7) #iterable object [1,2,3,4,5,6]\n",
        "\n",
        "for number in numbers_with_range:\n",
        "  number = number * 2\n",
        "  print(number)"
      ],
      "metadata": {
        "colab": {
          "base_uri": "https://localhost:8080/"
        },
        "id": "9LE9NcZRtdSy",
        "outputId": "53d6b61d-2e40-4730-d33b-c52f1787ef4c"
      },
      "execution_count": null,
      "outputs": [
        {
          "output_type": "stream",
          "name": "stdout",
          "text": [
            "2\n",
            "4\n",
            "6\n",
            "8\n",
            "10\n",
            "12\n"
          ]
        }
      ]
    },
    {
      "cell_type": "code",
      "source": [
        "fam = ['Anna', 'Peter', 'Erika', 'Roberta']\n",
        "for fam in fam:\n",
        "  print(f'Hey hey {fam}')"
      ],
      "metadata": {
        "colab": {
          "base_uri": "https://localhost:8080/"
        },
        "id": "nVFPYg9mt6Xn",
        "outputId": "ba8c0dea-2481-4569-f911-058bdc64e33b"
      },
      "execution_count": null,
      "outputs": [
        {
          "output_type": "stream",
          "name": "stdout",
          "text": [
            "Hey hey Anna\n",
            "Hey hey Peter\n",
            "Hey hey Erika\n",
            "Hey hey Roberta\n"
          ]
        }
      ]
    },
    {
      "cell_type": "markdown",
      "source": [
        "Team work: Analyzing Numbers - Iterate through a list of 10 random numbers and determine whether each number is higher or lower than 5.\n",
        "Hints:\n",
        "Use a for loop to iterate through the list of numbers.\n",
        "Use if, elif, and else statements to check each number against 5.\n",
        "\n",
        "Example Output:\n",
        "3 is lower than 5\n",
        "8 is higher than 5\n",
        "1 is lower than 5\n",
        "6 is higher than 5 ......."
      ],
      "metadata": {
        "id": "VHztnIfiwCNL"
      }
    },
    {
      "cell_type": "code",
      "source": [
        "# teamwork\n",
        "\n",
        "numbers = [1,5,9,44,10,5,7,11,12,90]\n",
        "print(numbers)\n",
        "\n",
        "for number in numbers:\n",
        "  if number > 5:\n",
        "    print(f'{number} number is higher than 5')\n",
        "  elif(number < 5):\n",
        "    print(f'{number} is smaller than 5')\n",
        "  else:\n",
        "    print(f'{number} is equal to 5')\n"
      ],
      "metadata": {
        "colab": {
          "base_uri": "https://localhost:8080/"
        },
        "id": "TEhkyhCjv9Vz",
        "outputId": "3f92fd90-3631-4b39-8897-adb6e95573b4"
      },
      "execution_count": null,
      "outputs": [
        {
          "output_type": "stream",
          "name": "stdout",
          "text": [
            "[1, 5, 9, 44, 10, 5, 7, 11, 12, 90]\n",
            "1 is smaller than 5\n",
            "5 is equal to 5\n",
            "9 number is higher than 5\n",
            "44 number is higher than 5\n",
            "10 number is higher than 5\n",
            "5 is equal to 5\n",
            "7 number is higher than 5\n",
            "11 number is higher than 5\n",
            "12 number is higher than 5\n",
            "90 number is higher than 5\n"
          ]
        }
      ]
    }
  ]
}