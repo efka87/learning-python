{
  "nbformat": 4,
  "nbformat_minor": 0,
  "metadata": {
    "colab": {
      "provenance": [],
      "authorship_tag": "ABX9TyMfzKMWRhGqACmL0syukR3j",
      "include_colab_link": true
    },
    "kernelspec": {
      "name": "python3",
      "display_name": "Python 3"
    },
    "language_info": {
      "name": "python"
    }
  },
  "cells": [
    {
      "cell_type": "markdown",
      "metadata": {
        "id": "view-in-github",
        "colab_type": "text"
      },
      "source": [
        "<a href=\"https://colab.research.google.com/github/efka87/learning-python/blob/main/w6_for_loops.ipynb\" target=\"_parent\"><img src=\"https://colab.research.google.com/assets/colab-badge.svg\" alt=\"Open In Colab\"/></a>"
      ]
    },
    {
      "cell_type": "code",
      "execution_count": null,
      "metadata": {
        "colab": {
          "base_uri": "https://localhost:8080/"
        },
        "id": "bXN3Gy1cB6nz",
        "outputId": "3a83f955-2539-4d70-ede8-2acbd0d6e0c0"
      },
      "outputs": [
        {
          "output_type": "stream",
          "name": "stdout",
          "text": [
            "I   l o v e   p y t h o n "
          ]
        }
      ],
      "source": [
        "for letter in \"I love python\":\n",
        "  print(letter, end = ' ')"
      ]
    },
    {
      "cell_type": "code",
      "source": [
        "cities_i_have_been_to = ['Tallinn', 'Riga', 'Tartu', 'Aluksne', 'Viru', 'Ventspilis']\n",
        "year_i_visited = [2020, 2024, 2020, 2021, 2024, 2022]\n",
        "len(year_i_visited) == 6\n",
        "for city in cities_i_have_been_to:\n",
        "  print(f'I have been to {city}')\n"
      ],
      "metadata": {
        "colab": {
          "base_uri": "https://localhost:8080/"
        },
        "id": "LbK7-_zwC6x0",
        "outputId": "7c6519c9-7f16-4e22-f309-88f44efb8f1c"
      },
      "execution_count": null,
      "outputs": [
        {
          "output_type": "stream",
          "name": "stdout",
          "text": [
            "I have been to Tallinn\n",
            "I have been to Riga\n",
            "I have been to Tartu\n",
            "I have been to Aluksne\n",
            "I have been to Viru\n",
            "I have been to Ventspilis\n"
          ]
        }
      ]
    },
    {
      "cell_type": "code",
      "source": [
        "cities_i_have_been_to = ['Tallinn', 'Riga', 'Tartu', 'Aluksne', 'Viru', 'Ventspilis']\n",
        "counter = 0\n",
        "previous_city = None\n",
        "\n",
        "for city in cities_i_have_been_to:\n",
        "  counter = counter + 1\n",
        "  if previous_city == None:\n",
        "    print(f'{counter}. I have been to {city}.')\n",
        "  else:\n",
        "    print(f'{counter}. I have been to {city}. The previous city I visited was {previous_city}')\n",
        "  previous_city = city\n"
      ],
      "metadata": {
        "colab": {
          "base_uri": "https://localhost:8080/"
        },
        "id": "iFp0BlYTDe6P",
        "outputId": "9808b229-3eb4-4273-b25d-216b353451e2"
      },
      "execution_count": null,
      "outputs": [
        {
          "output_type": "stream",
          "name": "stdout",
          "text": [
            "1. I have been to Tallinn.\n",
            "2. I have been to Riga. The previous city I visited was Tallinn\n",
            "3. I have been to Tartu. The previous city I visited was Riga\n",
            "4. I have been to Aluksne. The previous city I visited was Tartu\n",
            "5. I have been to Viru. The previous city I visited was Aluksne\n",
            "6. I have been to Ventspilis. The previous city I visited was Viru\n"
          ]
        }
      ]
    },
    {
      "cell_type": "code",
      "source": [
        "range(len(cities_i_have_been_to))\n",
        "for i in range(len(cities_i_have_been_to)):\n",
        "  print(cities_i_have_been_to [i])\n",
        "  print(year_i_visited[i])\n",
        "  print(f'This is the index {i}')"
      ],
      "metadata": {
        "colab": {
          "base_uri": "https://localhost:8080/"
        },
        "id": "YRuroV4_FFb5",
        "outputId": "22e6b11c-cf32-45dc-a4f3-00b87079d7c0"
      },
      "execution_count": null,
      "outputs": [
        {
          "output_type": "stream",
          "name": "stdout",
          "text": [
            "Tallinn\n",
            "2020\n",
            "This is the index 0\n",
            "Riga\n",
            "2024\n",
            "This is the index 1\n",
            "Tartu\n",
            "2020\n",
            "This is the index 2\n",
            "Aluksne\n",
            "2021\n",
            "This is the index 3\n",
            "Viru\n",
            "2024\n",
            "This is the index 4\n",
            "Ventspilis\n",
            "2022\n",
            "This is the index 5\n"
          ]
        }
      ]
    },
    {
      "cell_type": "code",
      "source": [
        "range(len(cities_i_have_been_to))\n",
        "for i in range(len(cities_i_have_been_to)):\n",
        "  print(f'I have been to {cities_i_have_been_to[i]}. I visited that city in {year_i_visited[i]}')"
      ],
      "metadata": {
        "colab": {
          "base_uri": "https://localhost:8080/"
        },
        "id": "ucTBITTxIDlo",
        "outputId": "3e59dd81-7458-418a-dd2e-a328fd43eb1b"
      },
      "execution_count": null,
      "outputs": [
        {
          "output_type": "stream",
          "name": "stdout",
          "text": [
            "I have been to Tallinn. I visited that city in 2020\n",
            "I have been to Riga. I visited that city in 2024\n",
            "I have been to Tartu. I visited that city in 2020\n",
            "I have been to Aluksne. I visited that city in 2021\n",
            "I have been to Viru. I visited that city in 2024\n",
            "I have been to Ventspilis. I visited that city in 2022\n"
          ]
        }
      ]
    },
    {
      "cell_type": "markdown",
      "source": [
        "Nested lists\n"
      ],
      "metadata": {
        "id": "cTY-BFEkJKBH"
      }
    },
    {
      "cell_type": "code",
      "source": [
        "matrix_2d = [\n",
        "    [1, 2, 3],\n",
        "    [4, 5, 6],\n",
        "    [7, 8, 9]]"
      ],
      "metadata": {
        "id": "n6GGiLlDJLyf"
      },
      "execution_count": null,
      "outputs": []
    },
    {
      "cell_type": "code",
      "source": [
        "for i in matrix_2d:\n",
        "  print(i)\n",
        "  for j in i:\n",
        "    print(f'These are the elements of the sub-list {j} ')"
      ],
      "metadata": {
        "colab": {
          "base_uri": "https://localhost:8080/"
        },
        "id": "_ICZQfocJZfG",
        "outputId": "6da9a17e-07db-417b-e62b-dfc015b64276"
      },
      "execution_count": null,
      "outputs": [
        {
          "output_type": "stream",
          "name": "stdout",
          "text": [
            "[1, 2, 3]\n",
            "These are the elements of the sub-list 1 \n",
            "These are the elements of the sub-list 2 \n",
            "These are the elements of the sub-list 3 \n",
            "[4, 5, 6]\n",
            "These are the elements of the sub-list 4 \n",
            "These are the elements of the sub-list 5 \n",
            "These are the elements of the sub-list 6 \n",
            "[7, 8, 9]\n",
            "These are the elements of the sub-list 7 \n",
            "These are the elements of the sub-list 8 \n",
            "These are the elements of the sub-list 9 \n"
          ]
        }
      ]
    },
    {
      "cell_type": "markdown",
      "source": [
        "GRADE MAPPING\n"
      ],
      "metadata": {
        "id": "TV5X2fnfoyMy"
      }
    },
    {
      "cell_type": "code",
      "source": [
        "grade_mapping = [[90, 'A'], [80, 'B'], [70, 'C'], [60, 'D'], [0, 'F']] # nested list"
      ],
      "metadata": {
        "id": "bQ3cJyVroqoW"
      },
      "execution_count": null,
      "outputs": []
    },
    {
      "cell_type": "code",
      "source": [
        "grade_mapping[0] # [90, 'A']\n",
        "grade_mapping[0][1] # 'A'\n",
        "grade_mapping[3][1] # 'D'"
      ],
      "metadata": {
        "colab": {
          "base_uri": "https://localhost:8080/",
          "height": 35
        },
        "id": "bJ29fdYFp_47",
        "outputId": "6efee4bd-f1d7-4ae5-a6bb-a3bbaa15a849"
      },
      "execution_count": null,
      "outputs": [
        {
          "output_type": "execute_result",
          "data": {
            "text/plain": [
              "'D'"
            ],
            "application/vnd.google.colaboratory.intrinsic+json": {
              "type": "string"
            }
          },
          "metadata": {},
          "execution_count": 13
        }
      ]
    },
    {
      "cell_type": "code",
      "source": [
        "for threshold, letter_grade in grade_mapping:\n",
        "  print(letter_grade)"
      ],
      "metadata": {
        "colab": {
          "base_uri": "https://localhost:8080/"
        },
        "id": "e54hokMhqxBf",
        "outputId": "26960344-13f2-4baf-8952-056b8cd719a2"
      },
      "execution_count": null,
      "outputs": [
        {
          "output_type": "stream",
          "name": "stdout",
          "text": [
            "A\n",
            "B\n",
            "C\n",
            "D\n",
            "F\n"
          ]
        }
      ]
    },
    {
      "cell_type": "code",
      "source": [
        "student_names = [\"Alice\", \"Bob\", \"Charlie\", \"David\", \"Eva\"]\n",
        "student_scores = [85, 72,93, 60, 77]\n",
        "rade_mapping = [[90, 'A'], [80, 'B'], [70, 'C'], [60, 'D'], [0, 'F']]\n",
        "\n",
        "for i in range(len(student_scores)):\n",
        "  print(student_scores[i])\n",
        "  print(student_names[i])\n",
        "  score = student_scores[i]\n",
        "  for number_grade, letter_grade in grade_mapping:\n",
        "    if score >= number_grade:\n",
        "      print(f'Hi, {student_names[i]}, your letter grade is {letter_grade}')\n",
        "      break"
      ],
      "metadata": {
        "colab": {
          "base_uri": "https://localhost:8080/"
        },
        "id": "Uf46woF4rAJn",
        "outputId": "f5969a8b-f6fa-4cba-b33d-defe01fd81c6"
      },
      "execution_count": null,
      "outputs": [
        {
          "output_type": "stream",
          "name": "stdout",
          "text": [
            "85\n",
            "Alice\n",
            "Hi, Alice, your letter grade is B\n",
            "72\n",
            "Bob\n",
            "Hi, Bob, your letter grade is C\n",
            "93\n",
            "Charlie\n",
            "Hi, Charlie, your letter grade is A\n",
            "60\n",
            "David\n",
            "Hi, David, your letter grade is D\n",
            "77\n",
            "Eva\n",
            "Hi, Eva, your letter grade is C\n"
          ]
        }
      ]
    },
    {
      "cell_type": "code",
      "source": [
        "student_names = [\"Alice\", \"Bob\", \"Charlie\", \"David\", \"Eva\"]\n",
        "\n",
        "for index, student in enumerate(student_names, start=1):\n",
        "  print(f'Student {index}: {student} ')\n"
      ],
      "metadata": {
        "colab": {
          "base_uri": "https://localhost:8080/"
        },
        "id": "uLO8yaRQtVo-",
        "outputId": "8f2a8344-0bd2-4d97-cb71-4355744c00bb"
      },
      "execution_count": null,
      "outputs": [
        {
          "output_type": "stream",
          "name": "stdout",
          "text": [
            "Student 1: Alice \n",
            "Student 2: Bob \n",
            "Student 3: Charlie \n",
            "Student 4: David \n",
            "Student 5: Eva \n"
          ]
        }
      ]
    },
    {
      "cell_type": "code",
      "source": [
        "student_names = [\"Alice\", \"Bob\", \"Charlie\", \"David\", \"Eva\"]\n",
        "\n",
        "#ENUMERATE\n",
        "for index, student in enumerate(student_names):\n",
        "  print(f'Student {index}: {student}')\n",
        "\n",
        "#COUNTER\n",
        "counter = 0 #INITIALIZE THE COUNTER\n",
        "for student in student_names:\n",
        "  print(f'Student {counter}: {student}')\n",
        "  counter = counter + 1\n",
        "\n",
        "#RANGE\n",
        "for i in range(len(student_names)):\n",
        "  print(f'Student {i}: {student_names[i]}')"
      ],
      "metadata": {
        "id": "Tx0MFIWOv9dZ",
        "outputId": "d41ea4a9-7b68-473f-8665-0b810c8762f1",
        "colab": {
          "base_uri": "https://localhost:8080/"
        }
      },
      "execution_count": null,
      "outputs": [
        {
          "output_type": "stream",
          "name": "stdout",
          "text": [
            "Student 0: Alice\n",
            "Student 1: Bob\n",
            "Student 2: Charlie\n",
            "Student 3: David\n",
            "Student 4: Eva\n",
            "Student 0: Alice\n",
            "Student 1: Bob\n",
            "Student 2: Charlie\n",
            "Student 3: David\n",
            "Student 4: Eva\n",
            "Student 0: Alice\n",
            "Student 1: Bob\n",
            "Student 2: Charlie\n",
            "Student 3: David\n",
            "Student 4: Eva\n"
          ]
        }
      ]
    }
  ]
}